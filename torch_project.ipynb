{
 "cells": [
  {
   "cell_type": "markdown",
   "metadata": {
    "heading_collapsed": true
   },
   "source": [
    "### Research description"
   ]
  },
  {
   "cell_type": "markdown",
   "metadata": {
    "hidden": true
   },
   "source": [
    "- Переменная notebook_mode в разделе \"Notebook params\" переключается между режимом обучения и режимом стриминга камеры. В первом случае модель начнет обучаться, во втором подгрузится модель с диска и попытается начать считывать поток с камеры.\n",
    "- На отложенной выборке в пределах предложенного дата-сета качество хорошее (в текущей версии ноутбука в тестовый дата-сет попало совсем мало объектов - под конец обучения менял соотношения чтобы дообучиться на максимальном объеме данных), все объекты классифицируются правильно.\n",
    "- При стриминге с камеры долго не получалось добиться хоть каких-то результатов, отличных от рандома, после долгих эксперименов оказалось что модели просто не хватало немного качества чтобы начать хоть что-то различать не на рафинированных данных из дата-сета, а на реальных фреймах с камеры где и фон присутствует и т.д.\n",
    "- Качество текущей модели при считывании потока с камеры таково, что в темноте если так все организовать что фон становится затемненным и свет от монитора высвечивает только руку, можно увидеть, что модель работает, иногда сразу распознает жест, иногда надо этим жестом какое-то время покрутить/пошевелить, через какое-то время он начнет мелькать либо модель непрерывно будет уверена, и стабильно выдавать правильный лейбл.\n",
    "- В классе CustomDatasetFromImages(Dataset) использовал аугментацию (вращение, зум, отражение), но по экспериментам качества это не прибавило, что странно, ожидал, что при таком небольшом дата-сете (он же, вроде, небольшой?) будет эффект.\n",
    "- Какие-то интересности в качестве реакции на жесты не стал придумывать - все-таки качество классификации с камеры пока не огонь - просто вывожу распознанный класс и расзвесовку по всем классам для текущего фрейма.\n",
    "- Сделал для себя импровизированный дашборд (в файле project_dashboard.ipynb), считывал им данные, которые логировал при обучении.\n",
    "- Иногда обучение строил так, что обучался, потом что-то менял, дообучался, в данном случае в логи попала инфа из одного такого сегмента (не с самого начала обучения), и эти данные для меня выглядят странными. Здесь представлены данные с использованием аугментации. Странным при использовании аугментации показлись несколько моментов: а. Почему-то лосс на тесте почти сразу начал уходить ниже лосса на трейне и с приличным гепом шел так в процессе обучения, б. Лосс на тесте как-то очень странно уперся в конкретное число и бился об него ни на грамм не пробивая (0.977). Ну, допустим, на тесте идет сто процентное попадание в точку по классам, но почему лосс 0.977, а не 0 тогда, если не 100%, тогда почему так четко горизонтальный уровень держит."
   ]
  },
  {
   "cell_type": "markdown",
   "metadata": {
    "heading_collapsed": true
   },
   "source": [
    "### Notebook params"
   ]
  },
  {
   "cell_type": "code",
   "execution_count": 1,
   "metadata": {
    "hidden": true
   },
   "outputs": [],
   "source": [
    "from enum import Enum\n",
    "\n",
    "class NotebookMode(Enum):\n",
    "    LEARNING = 0\n",
    "    CAMERA_STREAMING = 1\n",
    "\n",
    "# Режим ноутбука {LEARNING: режим обучения, CAMERA_STREAMING: лоудим модель, идет распознавание потока с веб-камеры}\n",
    "notebook_mode = NotebookMode.CAMERA_STREAMING  "
   ]
  },
  {
   "cell_type": "markdown",
   "metadata": {
    "heading_collapsed": true
   },
   "source": [
    "### Import"
   ]
  },
  {
   "cell_type": "code",
   "execution_count": 2,
   "metadata": {
    "hidden": true
   },
   "outputs": [],
   "source": [
    "import os\n",
    "from time import sleep\n",
    "from datetime import datetime\n",
    "from random import choice, randint, random\n",
    "import cv2\n",
    "import PIL\n",
    "from PIL import Image\n",
    "\n",
    "import numpy as np\n",
    "import pandas as pd\n",
    "\n",
    "from sklearn.model_selection import train_test_split\n",
    "\n",
    "import torch\n",
    "import torch.nn as nn\n",
    "from torch.utils.data import Dataset, DataLoader\n",
    "from torch.nn import functional as F\n",
    "import torchvision.models as models\n",
    "\n",
    "import matplotlib.pyplot as plt\n",
    "\n",
    "from IPython.display import clear_output\n",
    "\n",
    "PIL.Image.MAX_IMAGE_PIXELS = 933120000"
   ]
  },
  {
   "cell_type": "markdown",
   "metadata": {
    "heading_collapsed": true
   },
   "source": [
    "### Variables"
   ]
  },
  {
   "cell_type": "code",
   "execution_count": 3,
   "metadata": {
    "hidden": true
   },
   "outputs": [],
   "source": [
    "device = torch.device('cuda:0' if torch.cuda.is_available() else 'cpu')"
   ]
  },
  {
   "cell_type": "markdown",
   "metadata": {
    "heading_collapsed": true
   },
   "source": [
    "### Data preprocessing"
   ]
  },
  {
   "cell_type": "markdown",
   "metadata": {
    "heading_collapsed": true,
    "hidden": true
   },
   "source": [
    "#### Get classes list and dicts"
   ]
  },
  {
   "cell_type": "code",
   "execution_count": 4,
   "metadata": {
    "hidden": true
   },
   "outputs": [
    {
     "data": {
      "text/plain": [
       "['palm',\n",
       " 'c',\n",
       " 'down',\n",
       " 'index',\n",
       " 'fist_moved',\n",
       " 'fist',\n",
       " 'thumb',\n",
       " 'l',\n",
       " 'palm_moved',\n",
       " 'ok']"
      ]
     },
     "execution_count": 4,
     "metadata": {},
     "output_type": "execute_result"
    }
   ],
   "source": [
    "classes = []\n",
    "\n",
    "for dir_name, dirs, files in os.walk(os.path.join('data', 'leapGestRecog')):\n",
    "    if len(dir_name.split('\\\\')) == 4:\n",
    "        class_ = dir_name.split('\\\\')[-1].split('_')\n",
    "        class_ = '_'.join(class_[1:])\n",
    "        classes.append(class_)\n",
    "\n",
    "classes = list(set(classes))\n",
    "\n",
    "classes"
   ]
  },
  {
   "cell_type": "code",
   "execution_count": 5,
   "metadata": {
    "hidden": true
   },
   "outputs": [
    {
     "data": {
      "text/plain": [
       "{0: 'palm',\n",
       " 1: 'c',\n",
       " 2: 'down',\n",
       " 3: 'index',\n",
       " 4: 'fist_moved',\n",
       " 5: 'fist',\n",
       " 6: 'thumb',\n",
       " 7: 'l',\n",
       " 8: 'palm_moved',\n",
       " 9: 'ok'}"
      ]
     },
     "execution_count": 5,
     "metadata": {},
     "output_type": "execute_result"
    }
   ],
   "source": [
    "int_to_classes = dict(enumerate(classes))\n",
    "\n",
    "int_to_classes"
   ]
  },
  {
   "cell_type": "code",
   "execution_count": 6,
   "metadata": {
    "hidden": true
   },
   "outputs": [
    {
     "data": {
      "text/plain": [
       "{'palm': 0,\n",
       " 'c': 1,\n",
       " 'down': 2,\n",
       " 'index': 3,\n",
       " 'fist_moved': 4,\n",
       " 'fist': 5,\n",
       " 'thumb': 6,\n",
       " 'l': 7,\n",
       " 'palm_moved': 8,\n",
       " 'ok': 9}"
      ]
     },
     "execution_count": 6,
     "metadata": {},
     "output_type": "execute_result"
    }
   ],
   "source": [
    "classes_to_int = dict(zip(classes, [ind for ind in range(len(classes))]))\n",
    "\n",
    "classes_to_int"
   ]
  },
  {
   "cell_type": "markdown",
   "metadata": {
    "heading_collapsed": true,
    "hidden": true
   },
   "source": [
    "#### Get pics paths DataFrame"
   ]
  },
  {
   "cell_type": "code",
   "execution_count": 7,
   "metadata": {
    "hidden": true
   },
   "outputs": [],
   "source": [
    "data = {'path': [], 'target': []}\n",
    "\n",
    "for dir_name, dirs, files in os.walk(os.path.join('data', 'leapGestRecog')):\n",
    "    if len(dir_name.split('\\\\')) == 4:\n",
    "        class_ = dir_name.split('\\\\')[-1].split('_')\n",
    "        class_ = '_'.join(class_[1:])\n",
    "        for file_name in files:\n",
    "            data['path'].append(os.path.join(dir_name, file_name))\n",
    "            data['target'].append(class_)"
   ]
  },
  {
   "cell_type": "code",
   "execution_count": 8,
   "metadata": {
    "hidden": true
   },
   "outputs": [
    {
     "data": {
      "text/html": [
       "<div>\n",
       "<style scoped>\n",
       "    .dataframe tbody tr th:only-of-type {\n",
       "        vertical-align: middle;\n",
       "    }\n",
       "\n",
       "    .dataframe tbody tr th {\n",
       "        vertical-align: top;\n",
       "    }\n",
       "\n",
       "    .dataframe thead th {\n",
       "        text-align: right;\n",
       "    }\n",
       "</style>\n",
       "<table border=\"1\" class=\"dataframe\">\n",
       "  <thead>\n",
       "    <tr style=\"text-align: right;\">\n",
       "      <th></th>\n",
       "      <th>path</th>\n",
       "      <th>target</th>\n",
       "    </tr>\n",
       "  </thead>\n",
       "  <tbody>\n",
       "    <tr>\n",
       "      <th>0</th>\n",
       "      <td>data\\leapGestRecog\\05\\10_down\\frame_05_10_0091...</td>\n",
       "      <td>down</td>\n",
       "    </tr>\n",
       "    <tr>\n",
       "      <th>1</th>\n",
       "      <td>data\\leapGestRecog\\04\\09_c\\frame_04_09_0045.png</td>\n",
       "      <td>c</td>\n",
       "    </tr>\n",
       "    <tr>\n",
       "      <th>2</th>\n",
       "      <td>data\\leapGestRecog\\09\\06_index\\frame_09_06_014...</td>\n",
       "      <td>index</td>\n",
       "    </tr>\n",
       "  </tbody>\n",
       "</table>\n",
       "</div>"
      ],
      "text/plain": [
       "                                                path target\n",
       "0  data\\leapGestRecog\\05\\10_down\\frame_05_10_0091...   down\n",
       "1    data\\leapGestRecog\\04\\09_c\\frame_04_09_0045.png      c\n",
       "2  data\\leapGestRecog\\09\\06_index\\frame_09_06_014...  index"
      ]
     },
     "execution_count": 8,
     "metadata": {},
     "output_type": "execute_result"
    }
   ],
   "source": [
    "df = pd.DataFrame(data)\n",
    "df = df.sample(frac=1).reset_index(drop=True)\n",
    "\n",
    "df.head(3)"
   ]
  },
  {
   "cell_type": "code",
   "execution_count": 9,
   "metadata": {
    "hidden": true
   },
   "outputs": [
    {
     "data": {
      "text/html": [
       "<div>\n",
       "<style scoped>\n",
       "    .dataframe tbody tr th:only-of-type {\n",
       "        vertical-align: middle;\n",
       "    }\n",
       "\n",
       "    .dataframe tbody tr th {\n",
       "        vertical-align: top;\n",
       "    }\n",
       "\n",
       "    .dataframe thead th {\n",
       "        text-align: right;\n",
       "    }\n",
       "</style>\n",
       "<table border=\"1\" class=\"dataframe\">\n",
       "  <thead>\n",
       "    <tr style=\"text-align: right;\">\n",
       "      <th></th>\n",
       "      <th>path</th>\n",
       "      <th>target</th>\n",
       "    </tr>\n",
       "  </thead>\n",
       "  <tbody>\n",
       "    <tr>\n",
       "      <th>0</th>\n",
       "      <td>data\\leapGestRecog\\05\\10_down\\frame_05_10_0091...</td>\n",
       "      <td>2</td>\n",
       "    </tr>\n",
       "    <tr>\n",
       "      <th>1</th>\n",
       "      <td>data\\leapGestRecog\\04\\09_c\\frame_04_09_0045.png</td>\n",
       "      <td>1</td>\n",
       "    </tr>\n",
       "    <tr>\n",
       "      <th>2</th>\n",
       "      <td>data\\leapGestRecog\\09\\06_index\\frame_09_06_014...</td>\n",
       "      <td>3</td>\n",
       "    </tr>\n",
       "  </tbody>\n",
       "</table>\n",
       "</div>"
      ],
      "text/plain": [
       "                                                path  target\n",
       "0  data\\leapGestRecog\\05\\10_down\\frame_05_10_0091...       2\n",
       "1    data\\leapGestRecog\\04\\09_c\\frame_04_09_0045.png       1\n",
       "2  data\\leapGestRecog\\09\\06_index\\frame_09_06_014...       3"
      ]
     },
     "execution_count": 9,
     "metadata": {},
     "output_type": "execute_result"
    }
   ],
   "source": [
    "df['target'] = df.apply(lambda row: classes_to_int[row['target']], axis=1)\n",
    "\n",
    "df.head(3)"
   ]
  },
  {
   "cell_type": "code",
   "execution_count": 10,
   "metadata": {
    "hidden": true
   },
   "outputs": [
    {
     "data": {
      "image/png": "[encoded data removed]",
      "text/plain": [
       "<Figure size 432x288 with 1 Axes>"
      ]
     },
     "metadata": {
      "needs_background": "light"
     },
     "output_type": "display_data"
    }
   ],
   "source": [
    "pic = plt.imread(df.loc[np.random.randint(0, df.shape[0]), 'path'])\n",
    "plt.imshow(pic)\n",
    "plt.show()"
   ]
  },
  {
   "cell_type": "code",
   "execution_count": 11,
   "metadata": {
    "hidden": true
   },
   "outputs": [
    {
     "data": {
      "text/plain": [
       "(240, 640)"
      ]
     },
     "execution_count": 11,
     "metadata": {},
     "output_type": "execute_result"
    }
   ],
   "source": [
    "pic.shape"
   ]
  },
  {
   "cell_type": "markdown",
   "metadata": {
    "heading_collapsed": true,
    "hidden": true
   },
   "source": [
    "#### Custom Dataset"
   ]
  },
  {
   "cell_type": "code",
   "execution_count": 12,
   "metadata": {
    "hidden": true
   },
   "outputs": [],
   "source": [
    "class CustomDatasetFromImages(Dataset):\n",
    "    def __init__(self, data_info: pd.DataFrame, augm_percent_size=0):\n",
    "        self.data_info = data_info\n",
    "        self.classes_count = 9\n",
    "        self.size = int(self.data_info.shape[0] * (1 + float(augm_percent_size)/100))\n",
    "        \n",
    "        self.imgs_arr = self.data_info['path']\n",
    "        self.target_arr = self.data_info['target']\n",
    "        \n",
    "    def __getitem__(self, index):\n",
    "        if index < self.data_info.shape[0]:\n",
    "            img = np.asarray(Image.open(self.imgs_arr[index])).astype('float')\n",
    "            img = (torch.as_tensor(img) / 255).view(1, 1, img.shape[0], img.shape[1])  \n",
    "            img = F.interpolate(input=img, size=256, align_corners=False, mode='bicubic')\n",
    "            img = img.view(1, img.shape[-2], img.shape[-1])\n",
    "\n",
    "            target = self.target_arr[index]\n",
    "\n",
    "            return img.float(), target\n",
    "        else:\n",
    "            transformers = [0, 1, 1, 1, 1, 1, 1]\n",
    "            tr = choice(transformers)\n",
    "            \n",
    "            rand_int_ = randint(0, self.data_info.shape[0]-1)\n",
    "            \n",
    "            if tr == 0:\n",
    "                img = np.asarray(Image.open(self.imgs_arr[rand_int_])).astype('float')\n",
    "                img = np.fliplr(img).copy()\n",
    "            elif tr == 1:\n",
    "                img = Image.open(self.imgs_arr[rand_int_])\n",
    "                img = np.asarray(self.random_change(img)).astype('float')\n",
    "            \n",
    "            \n",
    "            img = (torch.as_tensor(img) / 255).view(1, 1, img.shape[0], img.shape[1])  \n",
    "            img = F.interpolate(input=img, size=256, align_corners=False, mode='bicubic')\n",
    "            img = img.view(1, img.shape[-2], img.shape[-1])\n",
    "\n",
    "            target = self.target_arr[rand_int_]\n",
    "\n",
    "            return img.float(), target\n",
    "    \n",
    "    def random_change(self, img):\n",
    "        zoom = ((random() + 0.5) * 2) - 0.5\n",
    "        angle = randint(-45, 45)\n",
    "\n",
    "        x, y = img.size\n",
    "        x /= 2\n",
    "        y /= 2\n",
    "\n",
    "        w, h = img.size\n",
    "        zoom2 = zoom * 2\n",
    "        img = img.crop((x - w / zoom2, y - h / zoom2, \n",
    "                        x + w / zoom2, y + h / zoom2))\n",
    "        img = img.resize((w, h), Image.LANCZOS)\n",
    "        img = img.rotate(angle, Image.BICUBIC)\n",
    "\n",
    "        return img\n",
    "\n",
    "    def __len__(self):\n",
    "        return self.size"
   ]
  },
  {
   "cell_type": "code",
   "execution_count": 13,
   "metadata": {
    "hidden": true
   },
   "outputs": [],
   "source": [
    "# 70 % в тренировочную выборку, 30 - в тестовую\n",
    "X_train, X_test = train_test_split(df, test_size=0.025)\n",
    "\n",
    "# Упорядочиваем индексацию\n",
    "X_train.reset_index(drop=True,inplace=True)\n",
    "X_test.reset_index(drop=True,inplace=True)\n",
    "\n",
    "# Оборачиваем каждую выборку в наш кастомный датасет\n",
    "train_data = CustomDatasetFromImages(data_info=X_train, augm_percent_size=250)\n",
    "test_data = CustomDatasetFromImages(X_test)"
   ]
  },
  {
   "cell_type": "code",
   "execution_count": 14,
   "metadata": {
    "hidden": true
   },
   "outputs": [
    {
     "name": "stdout",
     "output_type": "stream",
     "text": [
      "torch.Size([1, 256, 256])\n"
     ]
    },
    {
     "data": {
      "image/png": "[encoded data removed]",
      "text/plain": [
       "<Figure size 432x288 with 1 Axes>"
      ]
     },
     "metadata": {
      "needs_background": "light"
     },
     "output_type": "display_data"
    }
   ],
   "source": [
    "for val in train_data:\n",
    "    plt.imshow(val[0][0])\n",
    "    print(val[0].shape)\n",
    "    break"
   ]
  },
  {
   "cell_type": "code",
   "execution_count": 15,
   "metadata": {
    "hidden": true
   },
   "outputs": [],
   "source": [
    "train_data_loader = DataLoader(train_data, batch_size=25, shuffle=True)\n",
    "test_data_loader = DataLoader(test_data, batch_size=25, shuffle=True)"
   ]
  },
  {
   "cell_type": "markdown",
   "metadata": {
    "heading_collapsed": true
   },
   "source": [
    "### Learning"
   ]
  },
  {
   "cell_type": "markdown",
   "metadata": {
    "heading_collapsed": true,
    "hidden": true
   },
   "source": [
    "#### Learning params"
   ]
  },
  {
   "cell_type": "code",
   "execution_count": 16,
   "metadata": {
    "hidden": true
   },
   "outputs": [],
   "source": [
    "do_learning = True\n",
    "learning_rate = 0.0001\n",
    "epochs = 10"
   ]
  },
  {
   "cell_type": "markdown",
   "metadata": {
    "heading_collapsed": true,
    "hidden": true
   },
   "source": [
    "#### Model, loss function, optimizer"
   ]
  },
  {
   "cell_type": "markdown",
   "metadata": {
    "heading_collapsed": true,
    "hidden": true
   },
   "source": [
    "###### Models_reserch"
   ]
  },
  {
   "cell_type": "raw",
   "metadata": {
    "hidden": true
   },
   "source": [
    "class Net(nn.Module):\n",
    "    def __init__(self):\n",
    "        super(Net, self).__init__()\n",
    "        self.conv1 = nn.Conv2d(1, 6, 3)\n",
    "        self.conv2 = nn.Conv2d(6, 16, 3)\n",
    "        self.conv3 = nn.Conv2d(16, 32, 3)\n",
    "        self.pool = nn.MaxPool2d(2, 2)\n",
    "        self.fc1 = nn.Linear(115200, 10)\n",
    "#         self.fc1 = nn.Linear(25088, 128)\n",
    "#         self.fc2 = nn.Linear(128, 10)\n",
    "        self.dropout = nn.Dropout(0.05)\n",
    "        self.tanh = nn.Tanh()\n",
    "        self.softmax = nn.Softmax(dim=1)\n",
    "\n",
    "    def forward(self, x):\n",
    "#         print(x.shape)\n",
    "        x = self.pool(F.relu(self.conv1(x)))\n",
    "        x = self.dropout(x)\n",
    "#         print(x.shape)\n",
    "        x = self.pool(F.relu(self.conv2(x)))\n",
    "        x = self.dropout(x)\n",
    "#         print(x.shape)\n",
    "        x = F.relu(self.conv3(x))\n",
    "        x = self.dropout(x)\n",
    "#         print(x.shape)\n",
    "#         x = x.view(-1, 25088)\n",
    "        x = x.view(-1, 115200)\n",
    "#         print(x.shape)\n",
    "        x = self.fc1(x)\n",
    "#         x = F.relu(self.fc1(x))\n",
    "#         print(x.shape)\n",
    "#         x = self.fc2(x)\n",
    "#         print(x.shape)\n",
    "#         x = self.tanh(x)\n",
    "        x = self.softmax(x)\n",
    "#         print(x.shape)\n",
    "        return x\n",
    "\n",
    "\n",
    "net = Net().to(device)"
   ]
  },
  {
   "cell_type": "raw",
   "metadata": {
    "hidden": true
   },
   "source": [
    "class Net_2(nn.Module):\n",
    "    def __init__(self):\n",
    "        super(Net_2, self).__init__()\n",
    "        self.conv1 = nn.Conv2d(1, 4, 3)\n",
    "        self.conv2 = nn.Conv2d(4, 16, 3)\n",
    "#         self.conv3 = nn.Conv2d(64, 256, 3)\n",
    "        self.pool = nn.MaxPool2d(2, 2)\n",
    "        self.fc1 = nn.Linear(250000, 10)\n",
    "#         self.fc1 = nn.Linear(25088, 128)\n",
    "#         self.fc2 = nn.Linear(128, 10)\n",
    "        self.dropout = nn.Dropout(0.025)\n",
    "        self.batchnorm1 = nn.BatchNorm2d(num_features=4)\n",
    "        self.batchnorm2 = nn.BatchNorm2d(num_features=16)\n",
    "        self.batchnorm3 = nn.BatchNorm2d(num_features=256)\n",
    "        self.tanh = nn.Tanh()\n",
    "#         self.softmax = nn.Softmax(dim=1)\n",
    "\n",
    "    def forward(self, x):\n",
    "#         print(x.shape)\n",
    "        x = self.pool(F.leaky_relu(self.conv1(x)))\n",
    "        x = self.dropout(x)\n",
    "        x = self.batchnorm1(x)\n",
    "#         print(x.shape)\n",
    "        x = F.leaky_relu(self.conv2(x))\n",
    "#         print(x.shape)\n",
    "#         x = self.dropout(x)\n",
    "        x = self.batchnorm2(x)\n",
    "#         print(x.shape)\n",
    "#         x = self.pool(F.relu(self.conv3(x)))\n",
    "#         x = self.dropout(x)\n",
    "#         print(x.shape)\n",
    "#         x = x.view(-1, 25088)\n",
    "#         print(x.shape)\n",
    "        x = x.view(-1, 250000)\n",
    "#         print(x.shape)\n",
    "        x = self.fc1(x)\n",
    "#         x = F.relu(self.fc1(x))\n",
    "#         print(x.shape)\n",
    "#         x = self.fc2(x)\n",
    "#         print(x.shape)\n",
    "#         x = self.softmax(x)\n",
    "        x = self.tanh(x)\n",
    "#         print(x.shape)\n",
    "        return x\n",
    "\n",
    "\n",
    "net = Net_2().to(device)"
   ]
  },
  {
   "cell_type": "raw",
   "metadata": {
    "hidden": true
   },
   "source": [
    "net = models.alexnet(pretrained=True)"
   ]
  },
  {
   "cell_type": "raw",
   "metadata": {
    "hidden": true
   },
   "source": [
    "class Net_3(nn.Module):\n",
    "    def __init__(self):\n",
    "        super(Net_3, self).__init__()\n",
    "        self.conv1 = nn.Conv2d(1, 8, 3)\n",
    "        self.conv2 = nn.Conv2d(8, 32, 3)\n",
    "        self.conv3 = nn.Conv2d(32, 256, 3)\n",
    "        self.pool = nn.MaxPool2d(2, 2)\n",
    "        self.linear1 = nn.Linear(921600, 10)\n",
    "        self.dropout = nn.Dropout(0.25)\n",
    "        self.batchnorm1 = nn.BatchNorm2d(num_features=8)\n",
    "        self.batchnorm2 = nn.BatchNorm2d(num_features=32)\n",
    "        self.batchnorm3 = nn.BatchNorm2d(num_features=256)\n",
    "        self.tanh = nn.Tanh()\n",
    "        self.softmax = nn.Softmax(dim=1)\n",
    "\n",
    "    def forward(self, x):\n",
    "        x = self.pool(F.relu(self.conv1(x)))\n",
    "        x = self.dropout(x)\n",
    "        x = self.batchnorm1(x)\n",
    "\n",
    "        x = self.pool(F.relu(self.conv2(x)))\n",
    "        x = self.dropout(x)\n",
    "        x = self.batchnorm2(x)\n",
    "\n",
    "        x = F.relu(self.conv3(x))\n",
    "\n",
    "        x = x.view(-1, 921600)\n",
    "        x = self.linear1(x)\n",
    "        x = self.softmax(x)\n",
    "\n",
    "        return x\n",
    "\n",
    "\n",
    "net = Net_3().to(device)"
   ]
  },
  {
   "cell_type": "raw",
   "metadata": {
    "hidden": true
   },
   "source": [
    "# id001\n",
    "class Net_(nn.Module):\n",
    "    def __init__(self):\n",
    "        super(Net_, self).__init__()\n",
    "        self.conv1 = nn.Conv2d(1, 6, 5)\n",
    "        self.batchnorm1 = nn.BatchNorm2d(num_features=6)\n",
    "        self.batchnorm2 = nn.BatchNorm2d(num_features=16)\n",
    "        self.pool = nn.MaxPool2d(3, 3)\n",
    "        self.conv2 = nn.Conv2d(6, 16, 5)\n",
    "        self.fc1 = nn.Linear(16*26*26, 120)\n",
    "        self.fc2 = nn.Linear(120, 84)\n",
    "        self.fc3 = nn.Linear(84, 10)\n",
    "        self.tanh = nn.Tanh()\n",
    "        self.softmax = nn.Softmax(dim=1)\n",
    "\n",
    "    def forward(self, x):\n",
    "        x = self.pool(F.relu(self.conv1(x)))\n",
    "        x = self.batchnorm1(x)\n",
    "        x = self.pool(F.relu(self.conv2(x)))\n",
    "        x = self.batchnorm2(x)\n",
    "        x = x.view(-1, 16*26*26)\n",
    "        x = F.relu(self.fc1(x))\n",
    "        x = F.relu(self.fc2(x))\n",
    "        x = self.fc3(x)\n",
    "        x = self.tanh(x)\n",
    "\n",
    "        return x\n",
    "\n",
    "\n",
    "net = Net_().to(device)"
   ]
  },
  {
   "cell_type": "raw",
   "metadata": {
    "hidden": true
   },
   "source": [
    "# id002\n",
    "class Net(nn.Module):\n",
    "    def __init__(self):\n",
    "        super(Net, self).__init__()\n",
    "        self.conv1 = nn.Conv2d(1, 6, 5)\n",
    "        self.batchnorm1 = nn.BatchNorm2d(num_features=6)\n",
    "        self.batchnorm2 = nn.BatchNorm2d(num_features=16)\n",
    "        self.pool = nn.MaxPool2d(3, 3)\n",
    "        self.dropout = nn.Dropout(0.25)\n",
    "        self.conv2 = nn.Conv2d(6, 16, 5)\n",
    "        self.fc1 = nn.Linear(16*26*26, 120)\n",
    "        self.fc2 = nn.Linear(120, 84)\n",
    "        self.fc3 = nn.Linear(84, 10)\n",
    "        self.tanh = nn.Tanh()\n",
    "        self.softmax = nn.Softmax(dim=1)\n",
    "\n",
    "    def forward(self, x):\n",
    "        x = self.pool(F.relu(self.conv1(x)))\n",
    "        x = self.batchnorm1(x)\n",
    "        x = self.dropout(x)\n",
    "        x = self.pool(F.relu(self.conv2(x)))\n",
    "        x = self.batchnorm2(x)\n",
    "        x = self.dropout(x)\n",
    "        x = x.view(-1, 16*26*26)\n",
    "        x = F.relu(self.fc1(x))\n",
    "        x = F.relu(self.fc2(x))\n",
    "        x = self.fc3(x)\n",
    "        x = self.tanh(x)\n",
    "\n",
    "        return x\n",
    "\n",
    "\n",
    "net = Net_().to(device)"
   ]
  },
  {
   "cell_type": "markdown",
   "metadata": {
    "heading_collapsed": true,
    "hidden": true
   },
   "source": [
    "###### Model"
   ]
  },
  {
   "cell_type": "code",
   "execution_count": 17,
   "metadata": {
    "hidden": true
   },
   "outputs": [],
   "source": [
    "# id003\n",
    "class Net(nn.Module):\n",
    "    def __init__(self):\n",
    "        super(Net, self).__init__()\n",
    "        self.conv1 = nn.Conv2d(1, 6, 5)\n",
    "        self.batchnorm1 = nn.BatchNorm2d(num_features=6)\n",
    "        self.batchnorm2 = nn.BatchNorm2d(num_features=16)\n",
    "        self.pool = nn.MaxPool2d(3, 3)\n",
    "        self.dropout = nn.Dropout(0.25)\n",
    "        self.conv2 = nn.Conv2d(6, 16, 5)\n",
    "        self.fc1 = nn.Linear(16*26*26, 120)\n",
    "        self.fc2 = nn.Linear(120, 84)\n",
    "        self.fc3 = nn.Linear(84, 10)\n",
    "        self.tanh = nn.Tanh()\n",
    "        self.softmax = nn.Softmax(dim=1)\n",
    "\n",
    "    def forward(self, x):\n",
    "        x = self.pool(F.relu(self.conv1(x)))\n",
    "        x = self.batchnorm1(x)\n",
    "        x = self.dropout(x)\n",
    "        x = self.pool(F.relu(self.conv2(x)))\n",
    "        x = self.batchnorm2(x)\n",
    "        x = self.dropout(x)\n",
    "        x = x.view(-1, 16*26*26)\n",
    "        x = F.relu(self.fc1(x))\n",
    "        x = F.relu(self.fc2(x))\n",
    "        x = self.fc3(x)\n",
    "        x = self.tanh(x)\n",
    "\n",
    "        return x\n",
    "\n",
    "\n",
    "net = Net().to(device)"
   ]
  },
  {
   "cell_type": "markdown",
   "metadata": {
    "heading_collapsed": true,
    "hidden": true
   },
   "source": [
    "###### Loss function"
   ]
  },
  {
   "cell_type": "code",
   "execution_count": 18,
   "metadata": {
    "hidden": true
   },
   "outputs": [],
   "source": [
    "loss_func = nn.CrossEntropyLoss()"
   ]
  },
  {
   "cell_type": "markdown",
   "metadata": {
    "heading_collapsed": true,
    "hidden": true
   },
   "source": [
    "###### Optimizer"
   ]
  },
  {
   "cell_type": "code",
   "execution_count": 19,
   "metadata": {
    "hidden": true
   },
   "outputs": [],
   "source": [
    "optimizer = torch.optim.Adam(net.parameters(), lr=learning_rate)"
   ]
  },
  {
   "cell_type": "markdown",
   "metadata": {
    "heading_collapsed": true,
    "hidden": true
   },
   "source": [
    "#### Learning loop"
   ]
  },
  {
   "cell_type": "code",
   "execution_count": 20,
   "metadata": {
    "hidden": true
   },
   "outputs": [
    {
     "data": {
      "text/plain": [
       "2.297"
      ]
     },
     "execution_count": 20,
     "metadata": {},
     "output_type": "execute_result"
    }
   ],
   "source": [
    "def evaluate_test(n=10):\n",
    "    losses_ = []\n",
    "    for i, data in enumerate(test_data_loader, 0):\n",
    "        inputs, labels = data\n",
    "        outputs = net(inputs)\n",
    "        loss = loss_func(outputs, labels)\n",
    "        losses_.append(loss.item())\n",
    "#         print(torch.argmax(outputs, dim=1), labels)\n",
    "#         print(loss_func(outputs, labels))\n",
    "        \n",
    "        if i > n:\n",
    "            return round(np.array(losses_).mean(), 3)\n",
    "            break\n",
    "    return round(np.array(losses_).mean(), 3)\n",
    "            \n",
    "evaluate_test(10)"
   ]
  },
  {
   "cell_type": "code",
   "execution_count": 23,
   "metadata": {
    "hidden": true
   },
   "outputs": [],
   "source": [
    "losses_train = []\n",
    "losses_test = []\n",
    "\n",
    "for epoch in range(epochs):\n",
    "    \n",
    "    if notebook_mode != NotebookMode.LEARNING:\n",
    "        break\n",
    "\n",
    "    running_loss = 0.0\n",
    "    for i, data in enumerate(train_data_loader, 0):\n",
    "        inputs, labels = data\n",
    "\n",
    "        optimizer.zero_grad()\n",
    "\n",
    "        outputs = net(inputs)\n",
    "        \n",
    "        loss = loss_func(outputs, labels)\n",
    "        loss.backward()\n",
    "        optimizer.step()\n",
    "        \n",
    "        print_every = 25\n",
    "        \n",
    "\n",
    "        running_loss += loss.item()\n",
    "        if i % print_every == 0 and i != 0:\n",
    "            test_mean_loss = evaluate_test(n=10)\n",
    "            losses_test.append(test_mean_loss)\n",
    "            print(f'[{epoch}, {i}] loss_train: {round(running_loss / print_every, 3)}, loss_test: {test_mean_loss},'\n",
    "                  f' {datetime.now()}')\n",
    "            losses_train.append(running_loss / print_every)\n",
    "            losses_df = pd.DataFrame({'loss_train': losses_train, 'loss_test': losses_test})\n",
    "            losses_df.to_csv('losses.csv', index=False)\n",
    "            try:\n",
    "                losses_df.to_csv(r'C:\\Users\\misha\\OneDrive\\Data Science\\interactions\\losses.csv', index=False)\n",
    "            except:\n",
    "                pass\n",
    "            running_loss = 0.0\n",
    "            \n",
    "            softmax = nn.Softmax(dim=0)\n",
    "            vector_ = [round(val, 3) for val in outputs[0].tolist()]\n",
    "            max_ = torch.argmax(torch.Tensor(vector_)).item()\n",
    "            target_ = labels[0].item()\n",
    "\n",
    "            \n",
    "#             print('match:', target_ == max_, 'target:', target_, 'max:', max_, 'X:', softmax(torch.Tensor(vector_)))\n"
   ]
  },
  {
   "cell_type": "markdown",
   "metadata": {
    "heading_collapsed": true,
    "hidden": true
   },
   "source": [
    "#### Save model"
   ]
  },
  {
   "cell_type": "code",
   "execution_count": 24,
   "metadata": {
    "hidden": true
   },
   "outputs": [],
   "source": [
    "if notebook_mode == NotebookMode.LEARNING:\n",
    "    model_path = os.path.join('models', 'model_0.797_id003.model')\n",
    "    torch.save(net.state_dict(), model_path)"
   ]
  },
  {
   "cell_type": "markdown",
   "metadata": {
    "heading_collapsed": true,
    "hidden": true
   },
   "source": [
    "#### Load model"
   ]
  },
  {
   "cell_type": "code",
   "execution_count": 25,
   "metadata": {
    "hidden": true
   },
   "outputs": [],
   "source": [
    "if notebook_mode == NotebookMode.CAMERA_STREAMING:\n",
    "    net = Net().to(device)\n",
    "    model_path = os.path.join('models', 'model_0.797_id003.model')\n",
    "    net.load_state_dict(torch.load(model_path))"
   ]
  },
  {
   "cell_type": "code",
   "execution_count": 26,
   "metadata": {
    "hidden": true
   },
   "outputs": [
    {
     "data": {
      "text/plain": [
       "<bound method Module.parameters of Net(\n",
       "  (conv1): Conv2d(1, 6, kernel_size=(5, 5), stride=(1, 1))\n",
       "  (batchnorm1): BatchNorm2d(6, eps=1e-05, momentum=0.1, affine=True, track_running_stats=True)\n",
       "  (batchnorm2): BatchNorm2d(16, eps=1e-05, momentum=0.1, affine=True, track_running_stats=True)\n",
       "  (pool): MaxPool2d(kernel_size=3, stride=3, padding=0, dilation=1, ceil_mode=False)\n",
       "  (dropout): Dropout(p=0.25, inplace=False)\n",
       "  (conv2): Conv2d(6, 16, kernel_size=(5, 5), stride=(1, 1))\n",
       "  (fc1): Linear(in_features=10816, out_features=120, bias=True)\n",
       "  (fc2): Linear(in_features=120, out_features=84, bias=True)\n",
       "  (fc3): Linear(in_features=84, out_features=10, bias=True)\n",
       "  (tanh): Tanh()\n",
       "  (softmax): Softmax(dim=1)\n",
       ")>"
      ]
     },
     "execution_count": 26,
     "metadata": {},
     "output_type": "execute_result"
    }
   ],
   "source": [
    "net.parameters"
   ]
  },
  {
   "cell_type": "markdown",
   "metadata": {
    "heading_collapsed": true,
    "hidden": true
   },
   "source": [
    "#### Evaluate model"
   ]
  },
  {
   "cell_type": "code",
   "execution_count": 27,
   "metadata": {
    "hidden": true
   },
   "outputs": [],
   "source": [
    "ev = 0"
   ]
  },
  {
   "cell_type": "code",
   "execution_count": 28,
   "metadata": {
    "hidden": true
   },
   "outputs": [],
   "source": [
    "pred_ = []\n",
    "true_ = []\n",
    "max_ = []\n",
    "\n",
    "for i, data in enumerate(test_data_loader, 0):\n",
    "    inputs, labels = data\n",
    "    outputs = net(inputs)\n",
    "    ev = inputs\n",
    "    \n",
    "    for ind in range(inputs.shape[0]):\n",
    "        pic = inputs[ind][0]\n",
    "        true_label = labels[ind]\n",
    "        predict_label = outputs[ind]\n",
    "        full_predict = predict_label\n",
    "\n",
    "        true_label = int_to_classes[true_label.item()]\n",
    "        predict_label = int_to_classes[torch.max(predict_label, dim=0)[1].item()]\n",
    "        \n",
    "        pred_.append(predict_label)\n",
    "        true_.append(true_label)\n",
    "        max_.append(torch.max(full_predict).item())"
   ]
  },
  {
   "cell_type": "code",
   "execution_count": 29,
   "metadata": {
    "hidden": true
   },
   "outputs": [
    {
     "data": {
      "text/html": [
       "<div>\n",
       "<style scoped>\n",
       "    .dataframe tbody tr th:only-of-type {\n",
       "        vertical-align: middle;\n",
       "    }\n",
       "\n",
       "    .dataframe tbody tr th {\n",
       "        vertical-align: top;\n",
       "    }\n",
       "\n",
       "    .dataframe thead th {\n",
       "        text-align: right;\n",
       "    }\n",
       "</style>\n",
       "<table border=\"1\" class=\"dataframe\">\n",
       "  <thead>\n",
       "    <tr style=\"text-align: right;\">\n",
       "      <th></th>\n",
       "      <th>pred</th>\n",
       "      <th>true</th>\n",
       "      <th>max</th>\n",
       "      <th>match</th>\n",
       "    </tr>\n",
       "  </thead>\n",
       "  <tbody>\n",
       "    <tr>\n",
       "      <th>0</th>\n",
       "      <td>palm_moved</td>\n",
       "      <td>index</td>\n",
       "      <td>1.000000</td>\n",
       "      <td>0</td>\n",
       "    </tr>\n",
       "    <tr>\n",
       "      <th>1</th>\n",
       "      <td>fist_moved</td>\n",
       "      <td>down</td>\n",
       "      <td>1.000000</td>\n",
       "      <td>0</td>\n",
       "    </tr>\n",
       "    <tr>\n",
       "      <th>2</th>\n",
       "      <td>thumb</td>\n",
       "      <td>palm</td>\n",
       "      <td>1.000000</td>\n",
       "      <td>0</td>\n",
       "    </tr>\n",
       "    <tr>\n",
       "      <th>3</th>\n",
       "      <td>palm</td>\n",
       "      <td>fist_moved</td>\n",
       "      <td>1.000000</td>\n",
       "      <td>0</td>\n",
       "    </tr>\n",
       "    <tr>\n",
       "      <th>4</th>\n",
       "      <td>index</td>\n",
       "      <td>c</td>\n",
       "      <td>1.000000</td>\n",
       "      <td>0</td>\n",
       "    </tr>\n",
       "    <tr>\n",
       "      <th>...</th>\n",
       "      <td>...</td>\n",
       "      <td>...</td>\n",
       "      <td>...</td>\n",
       "      <td>...</td>\n",
       "    </tr>\n",
       "    <tr>\n",
       "      <th>495</th>\n",
       "      <td>thumb</td>\n",
       "      <td>palm</td>\n",
       "      <td>1.000000</td>\n",
       "      <td>0</td>\n",
       "    </tr>\n",
       "    <tr>\n",
       "      <th>496</th>\n",
       "      <td>palm</td>\n",
       "      <td>fist_moved</td>\n",
       "      <td>0.999961</td>\n",
       "      <td>0</td>\n",
       "    </tr>\n",
       "    <tr>\n",
       "      <th>497</th>\n",
       "      <td>down</td>\n",
       "      <td>fist</td>\n",
       "      <td>1.000000</td>\n",
       "      <td>0</td>\n",
       "    </tr>\n",
       "    <tr>\n",
       "      <th>498</th>\n",
       "      <td>down</td>\n",
       "      <td>fist</td>\n",
       "      <td>0.999930</td>\n",
       "      <td>0</td>\n",
       "    </tr>\n",
       "    <tr>\n",
       "      <th>499</th>\n",
       "      <td>fist</td>\n",
       "      <td>ok</td>\n",
       "      <td>1.000000</td>\n",
       "      <td>0</td>\n",
       "    </tr>\n",
       "  </tbody>\n",
       "</table>\n",
       "<p>500 rows × 4 columns</p>\n",
       "</div>"
      ],
      "text/plain": [
       "           pred        true       max  match\n",
       "0    palm_moved       index  1.000000      0\n",
       "1    fist_moved        down  1.000000      0\n",
       "2         thumb        palm  1.000000      0\n",
       "3          palm  fist_moved  1.000000      0\n",
       "4         index           c  1.000000      0\n",
       "..          ...         ...       ...    ...\n",
       "495       thumb        palm  1.000000      0\n",
       "496        palm  fist_moved  0.999961      0\n",
       "497        down        fist  1.000000      0\n",
       "498        down        fist  0.999930      0\n",
       "499        fist          ok  1.000000      0\n",
       "\n",
       "[500 rows x 4 columns]"
      ]
     },
     "execution_count": 29,
     "metadata": {},
     "output_type": "execute_result"
    }
   ],
   "source": [
    "results_ = pd.DataFrame({'pred': pred_, 'true': true_, 'max': max_})\n",
    "results_['match'] = 0\n",
    "results_.loc[results_['pred'] == results_['true'], 'match'] = 1\n",
    "\n",
    "results_"
   ]
  },
  {
   "cell_type": "code",
   "execution_count": 30,
   "metadata": {
    "hidden": true
   },
   "outputs": [
    {
     "data": {
      "text/plain": [
       "0.108"
      ]
     },
     "execution_count": 30,
     "metadata": {},
     "output_type": "execute_result"
    }
   ],
   "source": [
    "val = 0.25\n",
    "round(results_.loc[results_['max'] > val, 'match'].mean(), 5)"
   ]
  },
  {
   "cell_type": "code",
   "execution_count": 31,
   "metadata": {
    "hidden": true
   },
   "outputs": [
    {
     "data": {
      "text/plain": [
       "(446, 4)"
      ]
     },
     "execution_count": 31,
     "metadata": {},
     "output_type": "execute_result"
    }
   ],
   "source": [
    "results_.loc[results_['match'] == 0].shape"
   ]
  },
  {
   "cell_type": "markdown",
   "metadata": {
    "heading_collapsed": true
   },
   "source": [
    "### Camera stream"
   ]
  },
  {
   "cell_type": "markdown",
   "metadata": {
    "heading_collapsed": true,
    "hidden": true
   },
   "source": [
    "#### Extra functions"
   ]
  },
  {
   "cell_type": "markdown",
   "metadata": {
    "hidden": true
   },
   "source": [
    "На вход изображение с камеры (фрейм), на выходе изображение переформатированное под вход модели."
   ]
  },
  {
   "cell_type": "code",
   "execution_count": 32,
   "metadata": {
    "hidden": true
   },
   "outputs": [],
   "source": [
    "def cam_output_to_net_input(pic: torch.Tensor):  # pic - torch.Size([480, 640, 3])\n",
    "    pic = np.dot(pic[...,:3], [0.2989, 0.5870, 0.1140])\n",
    "    pic /= 255\n",
    "    \n",
    "    plt.imshow(pic)\n",
    "    plt.plot()\n",
    "    pic = torch.Tensor(pic)\n",
    "    pic = pic.view(1, 1, pic.shape[0], pic.shape[1])\n",
    "    pic = F.interpolate(input=pic, size=256, align_corners=False, mode='bicubic')[0].permute(1,2,0)\n",
    "    pic = pic[:, :, 0]\n",
    "    plt.imshow(pic/255)\n",
    "    pic = pic.view(1, pic.shape[0], pic.shape[1])\n",
    "\n",
    "    return pic"
   ]
  },
  {
   "cell_type": "code",
   "execution_count": 33,
   "metadata": {
    "hidden": true
   },
   "outputs": [],
   "source": [
    "def predic_by_pic(pic):\n",
    "    pic = cam_output_to_net_input(pic)\n",
    "    outputs = net(pic.unsqueeze(0))\n",
    "\n",
    "    predict_label = outputs[0]\n",
    "    softmax = nn.Softmax(dim=0)\n",
    "    vector = softmax(outputs[0]).tolist()\n",
    "    \n",
    "    argmax = torch.max(predict_label, dim=0)[1].item()\n",
    "    predict_label = int_to_classes[argmax] if predict_label.max() > prob_limit else 'UNKNOWN'\n",
    "\n",
    "    return predict_label, vector"
   ]
  },
  {
   "cell_type": "markdown",
   "metadata": {
    "heading_collapsed": true,
    "hidden": true
   },
   "source": [
    "#### Stream loop"
   ]
  },
  {
   "cell_type": "code",
   "execution_count": 34,
   "metadata": {
    "hidden": true
   },
   "outputs": [
    {
     "ename": "error",
     "evalue": "OpenCV(4.4.0) C:\\Users\\appveyor\\AppData\\Local\\Temp\\1\\pip-req-build-6sxsq0tp\\opencv\\modules\\highgui\\src\\window.cpp:376: error: (-215:Assertion failed) size.width>0 && size.height>0 in function 'cv::imshow'\n",
     "output_type": "error",
     "traceback": [
      "\u001b[1;31m---------------------------------------------------------------------------\u001b[0m",
      "\u001b[1;31merror\u001b[0m                                     Traceback (most recent call last)",
      "\u001b[1;32m<ipython-input-34-ca685839ddc2>\u001b[0m in \u001b[0;36m<module>\u001b[1;34m\u001b[0m\n\u001b[0;32m      9\u001b[0m     \u001b[0mcounter\u001b[0m \u001b[1;33m+=\u001b[0m \u001b[1;36m1\u001b[0m\u001b[1;33m\u001b[0m\u001b[1;33m\u001b[0m\u001b[0m\n\u001b[0;32m     10\u001b[0m     \u001b[0mret\u001b[0m\u001b[1;33m,\u001b[0m \u001b[0mframe\u001b[0m \u001b[1;33m=\u001b[0m \u001b[0mcap\u001b[0m\u001b[1;33m.\u001b[0m\u001b[0mread\u001b[0m\u001b[1;33m(\u001b[0m\u001b[1;33m)\u001b[0m\u001b[1;33m\u001b[0m\u001b[1;33m\u001b[0m\u001b[0m\n\u001b[1;32m---> 11\u001b[1;33m     \u001b[0mcv2\u001b[0m\u001b[1;33m.\u001b[0m\u001b[0mimshow\u001b[0m\u001b[1;33m(\u001b[0m\u001b[1;34m'App'\u001b[0m\u001b[1;33m,\u001b[0m \u001b[0mframe\u001b[0m\u001b[1;33m)\u001b[0m\u001b[1;33m\u001b[0m\u001b[1;33m\u001b[0m\u001b[0m\n\u001b[0m\u001b[0;32m     12\u001b[0m \u001b[1;33m\u001b[0m\u001b[0m\n\u001b[0;32m     13\u001b[0m \u001b[1;31m#     frame = torch.Tensor(frame)\u001b[0m\u001b[1;33m\u001b[0m\u001b[1;33m\u001b[0m\u001b[1;33m\u001b[0m\u001b[0m\n",
      "\u001b[1;31merror\u001b[0m: OpenCV(4.4.0) C:\\Users\\appveyor\\AppData\\Local\\Temp\\1\\pip-req-build-6sxsq0tp\\opencv\\modules\\highgui\\src\\window.cpp:376: error: (-215:Assertion failed) size.width>0 && size.height>0 in function 'cv::imshow'\n"
     ]
    }
   ],
   "source": [
    "prob_limit = 0.425\n",
    "\n",
    "cap = cv2.VideoCapture(0)\n",
    "\n",
    "counter = 0\n",
    "evaluate_every = 1\n",
    "\n",
    "while True:\n",
    "    counter += 1\n",
    "    ret, frame = cap.read()\n",
    "    cv2.imshow('App', frame)\n",
    "    \n",
    "#     frame = torch.Tensor(frame)\n",
    "    \n",
    "#     pic = torch.Tensor(cv2.imread('gesture.png'))\n",
    "    if counter % evaluate_every == 0:\n",
    "        clear_output(wait=True)\n",
    "        predict = predic_by_pic(frame)\n",
    "        \n",
    "#         softmax = nn.Softmax(dim=0)\n",
    "#         vector = softmax(predict[1]).tolist()\n",
    "#         vector = dict([(int_to_classes[val[0]], round(val[1], 3)) for val in enumerate(vector)])\n",
    "#         print(vector)\n",
    "#         raise Exception()\n",
    "        print(predict[0] , predict[1])\n",
    "        \n",
    "        \n",
    "#         pic = torch.Tensor(pic)\n",
    "#     isWritten = cv2.imwrite('gesture.png', frame)\n",
    "    \n",
    "        sleep(0.1)\n",
    "    \n",
    "    if cv2.waitKey(1) & 0xFF == ord('q'):\n",
    "        cap.release()\n",
    "        cv2.destroyAllWindows()\n",
    "        break\n",
    "\n",
    "cap.release()\n",
    "cv2.destroyAllWindows()"
   ]
  },
  {
   "cell_type": "code",
   "execution_count": null,
   "metadata": {
    "hidden": true
   },
   "outputs": [],
   "source": [
    "cap.release()\n",
    "cv2.destroyAllWindows()"
   ]
  }
 ],
 "metadata": {
  "hide_input": false,
  "kernelspec": {
   "display_name": "Python 3",
   "language": "python",
   "name": "python3"
  },
  "language_info": {
   "codemirror_mode": {
    "name": "ipython",
    "version": 3
   },
   "file_extension": ".py",
   "mimetype": "text/x-python",
   "name": "python",
   "nbconvert_exporter": "python",
   "pygments_lexer": "ipython3",
   "version": "3.7.6"
  },
  "toc": {
   "base_numbering": 1,
   "nav_menu": {},
   "number_sections": false,
   "sideBar": true,
   "skip_h1_title": false,
   "title_cell": "Table of Contents",
   "title_sidebar": "Contents",
   "toc_cell": false,
   "toc_position": {
    "height": "701px",
    "left": "568px",
    "top": "188.797px",
    "width": "256px"
   },
   "toc_section_display": true,
   "toc_window_display": true
  }
 },
 "nbformat": 4,
 "nbformat_minor": 4
}
