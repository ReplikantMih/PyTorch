{
 "cells": [
  {
   "cell_type": "markdown",
   "metadata": {},
   "source": [
    "### Task_1:"
   ]
  },
  {
   "cell_type": "markdown",
   "metadata": {},
   "source": [
    "Добиться вразумительного результата от модели, собранной на занятии (3\n",
    "угаданные картинки из 4 предложенных на семинаре). Варианты изменений:\n",
    "- a. изменение слоёв и их количества;\n",
    "- b. изменение метода оптимизации;\n",
    "- c. изменение процесса обучения;\n",
    "- d. для продвинутых: преобразование данных.\n"
   ]
  },
  {
   "cell_type": "code",
   "execution_count": 35,
   "metadata": {},
   "outputs": [],
   "source": [
    "import torch\n",
    "import torchvision\n",
    "\n",
    "from torch import nn \n",
    "from torch import optim\n",
    "\n",
    "import torchvision.transforms as transforms\n",
    "import matplotlib.pyplot as plt"
   ]
  },
  {
   "cell_type": "code",
   "execution_count": 58,
   "metadata": {},
   "outputs": [],
   "source": [
    "train_dataset = torchvision.datasets.CIFAR10(root='../../data/',\n",
    "                                             train=True,\n",
    "                                             download=False,\n",
    "                                             transform=transforms.ToTensor())\n",
    "\n",
    "train_loader = torch.utils.data.DataLoader(dataset=train_dataset,\n",
    "                                           batch_size=50, \n",
    "                                           shuffle=True)"
   ]
  },
  {
   "cell_type": "code",
   "execution_count": 59,
   "metadata": {},
   "outputs": [],
   "source": [
    "test_dataset = torchvision.datasets.CIFAR10(root='./data', \n",
    "                                            train=False,\n",
    "                                            download=False,\n",
    "                                            transform=transforms.ToTensor())\n",
    "test_loader = torch.utils.data.DataLoader(dataset=test_dataset,\n",
    "                                          batch_size=100,\n",
    "                                          shuffle=False)"
   ]
  },
  {
   "cell_type": "code",
   "execution_count": 4,
   "metadata": {},
   "outputs": [
    {
     "name": "stdout",
     "output_type": "stream",
     "text": [
      "torch.Size([3, 32, 32])\n",
      "2\n"
     ]
    }
   ],
   "source": [
    "image, label = train_dataset[57]\n",
    "print (image.size())\n",
    "print (label)"
   ]
  },
  {
   "cell_type": "code",
   "execution_count": 5,
   "metadata": {
    "scrolled": true
   },
   "outputs": [
    {
     "data": {
      "text/plain": [
       "<matplotlib.image.AxesImage at 0x203d54f0160>"
      ]
     },
     "execution_count": 5,
     "metadata": {},
     "output_type": "execute_result"
    },
    {
     "data": {
      "image/png": "[encoded data removed]",
      "text/plain": [
       "<Figure size 432x288 with 1 Axes>"
      ]
     },
     "metadata": {
      "needs_background": "light"
     },
     "output_type": "display_data"
    }
   ],
   "source": [
    "plt.imshow(image.permute(1, 2, 0).numpy())"
   ]
  },
  {
   "cell_type": "code",
   "execution_count": 6,
   "metadata": {},
   "outputs": [
    {
     "data": {
      "text/plain": [
       "['airplane',\n",
       " 'automobile',\n",
       " 'bird',\n",
       " 'cat',\n",
       " 'deer',\n",
       " 'dog',\n",
       " 'frog',\n",
       " 'horse',\n",
       " 'ship',\n",
       " 'truck']"
      ]
     },
     "execution_count": 6,
     "metadata": {},
     "output_type": "execute_result"
    }
   ],
   "source": [
    "classes = train_dataset.classes\n",
    "classes"
   ]
  },
  {
   "cell_type": "markdown",
   "metadata": {},
   "source": [
    "##### Определение модели:"
   ]
  },
  {
   "cell_type": "code",
   "execution_count": 7,
   "metadata": {},
   "outputs": [],
   "source": [
    "import torch.nn.functional as F\n",
    "\n",
    "\n",
    "class Net(nn.Module):\n",
    "    def __init__(self):\n",
    "        super().__init__()\n",
    "        self.conv1 = nn.Conv2d(3, 6, 5)\n",
    "        self.pool = nn.MaxPool2d(2, 2)\n",
    "        self.conv2 = nn.Conv2d(6, 16, 5)\n",
    "        self.fc1 = nn.Linear(16 * 5 * 5, 120)\n",
    "#         self.fc2 = nn.Linear(120, 84)\n",
    "        self.fc3 = nn.Linear(120, 10)\n",
    "\n",
    "    def forward(self, x):\n",
    "        x = self.pool(F.relu(self.conv1(x)))\n",
    "        x = self.pool(F.relu(self.conv2(x)))\n",
    "        x = x.view(-1, 16 * 5 * 5)\n",
    "        x = F.relu(self.fc1(x))\n",
    "#         x = F.relu(self.fc2(x))\n",
    "        x = self.fc3(x)\n",
    "        return x\n",
    "\n",
    "\n",
    "net = Net().to('cpu')"
   ]
  },
  {
   "cell_type": "code",
   "execution_count": 8,
   "metadata": {},
   "outputs": [],
   "source": [
    "criterion = nn.CrossEntropyLoss()\n",
    "optimizer = optim.SGD(net.parameters(), lr=0.0001, momentum=0.9)"
   ]
  },
  {
   "cell_type": "code",
   "execution_count": 9,
   "metadata": {},
   "outputs": [],
   "source": [
    "def get_test_loss():\n",
    "    return round(float(criterion(net(list(test_loader)[2][0]), list(test_loader)[2][1])), 3)"
   ]
  },
  {
   "cell_type": "code",
   "execution_count": 10,
   "metadata": {},
   "outputs": [
    {
     "name": "stdout",
     "output_type": "stream",
     "text": [
      "epoch 0, train_loss: 2303.32, test_loss: 2.299\n",
      "epoch 1, train_loss: 2300.49, test_loss: 2.294\n",
      "epoch 2, train_loss: 2297.04, test_loss: 2.287\n",
      "epoch 3, train_loss: 2291.85, test_loss: 2.274\n",
      "epoch 4, train_loss: 2283.13, test_loss: 2.258\n",
      "epoch 5, train_loss: 2268.92, test_loss: 2.232\n",
      "epoch 6, train_loss: 2239.28, test_loss: 2.188\n",
      "epoch 7, train_loss: 2177.73, test_loss: 2.103\n",
      "epoch 8, train_loss: 2092.73, test_loss: 2.03\n",
      "epoch 9, train_loss: 2027.25, test_loss: 1.985\n",
      "epoch 10, train_loss: 1996.09, test_loss: 1.97\n",
      "epoch 11, train_loss: 1976.65, test_loss: 1.959\n",
      "epoch 12, train_loss: 1959.59, test_loss: 1.946\n",
      "epoch 13, train_loss: 1941.49, test_loss: 1.921\n",
      "epoch 14, train_loss: 1921.22, test_loss: 1.919\n",
      "epoch 15, train_loss: 1897.64, test_loss: 1.898\n",
      "epoch 16, train_loss: 1873.34, test_loss: 1.889\n",
      "epoch 17, train_loss: 1847.64, test_loss: 1.871\n",
      "epoch 18, train_loss: 1820.81, test_loss: 1.849\n",
      "epoch 19, train_loss: 1792.79, test_loss: 1.828\n",
      "epoch 20, train_loss: 1765.2, test_loss: 1.789\n",
      "epoch 21, train_loss: 1736.75, test_loss: 1.789\n",
      "epoch 22, train_loss: 1712.03, test_loss: 1.736\n",
      "epoch 23, train_loss: 1689.29, test_loss: 1.73\n",
      "epoch 24, train_loss: 1668.74, test_loss: 1.71\n",
      "Training is finished!\n"
     ]
    }
   ],
   "source": [
    "train_losses = []\n",
    "test_losses = []\n",
    "\n",
    "for epoch in range(25):  \n",
    "    running_loss = 0.0\n",
    "    for i, data in enumerate(train_loader, 0):\n",
    "        inputs, labels = data[0], data[1]\n",
    "\n",
    "        # обнуляем градиент\n",
    "        optimizer.zero_grad()\n",
    "\n",
    "        outputs = net(inputs)\n",
    "        loss = criterion(outputs, labels)\n",
    "        loss.backward()\n",
    "        optimizer.step()\n",
    "\n",
    "        # выводим статистику о процессе обучения\n",
    "        running_loss += loss.item()\n",
    "#         if i % 300 == 0:    # печатаем каждые 300 mini-batches\n",
    "#             print('[%d, %5d] loss: %.3f' %\n",
    "#                   (epoch + 1, i + 1, running_loss / 2000))\n",
    "#             running_loss = 0.0\n",
    "    train_losses.append(running_loss)\n",
    "    test_losses.append(get_test_loss())\n",
    "    print(f'epoch {epoch}, train_loss: {round(running_loss, 2)}, test_loss: {test_losses[-1]}')\n",
    "\n",
    "print('Training is finished!')"
   ]
  },
  {
   "cell_type": "code",
   "execution_count": 18,
   "metadata": {},
   "outputs": [
    {
     "data": {
      "text/plain": [
       "[<matplotlib.lines.Line2D at 0x203d2dc8780>]"
      ]
     },
     "execution_count": 18,
     "metadata": {},
     "output_type": "execute_result"
    },
    {
     "data": {
      "image/png": "[encoded data removed]",
      "text/plain": [
       "<Figure size 360x504 with 2 Axes>"
      ]
     },
     "metadata": {
      "needs_background": "light"
     },
     "output_type": "display_data"
    }
   ],
   "source": [
    "plt.figure(figsize=(5,7))\n",
    "\n",
    "plt.subplot(2, 1, 1)\n",
    "plt.plot(train_losses)\n",
    "\n",
    "plt.subplot(2, 1, 2)\n",
    "plt.plot(test_losses)"
   ]
  },
  {
   "cell_type": "markdown",
   "metadata": {},
   "source": [
    "Все хорошо, переобучения нет, темпы обучения хорошие, запустим процесс ещё раз с той же точки."
   ]
  },
  {
   "cell_type": "code",
   "execution_count": 21,
   "metadata": {},
   "outputs": [
    {
     "name": "stdout",
     "output_type": "stream",
     "text": [
      "epoch 0, train_loss: 1650.86, test_loss: 1.655\n",
      "epoch 1, train_loss: 1634.92, test_loss: 1.638\n",
      "epoch 2, train_loss: 1620.74, test_loss: 1.649\n",
      "epoch 3, train_loss: 1608.92, test_loss: 1.627\n",
      "epoch 4, train_loss: 1596.84, test_loss: 1.612\n",
      "epoch 5, train_loss: 1586.0, test_loss: 1.564\n",
      "epoch 6, train_loss: 1575.9, test_loss: 1.594\n",
      "epoch 7, train_loss: 1564.73, test_loss: 1.603\n",
      "epoch 8, train_loss: 1554.28, test_loss: 1.574\n",
      "epoch 9, train_loss: 1545.35, test_loss: 1.564\n",
      "epoch 10, train_loss: 1537.95, test_loss: 1.574\n",
      "epoch 11, train_loss: 1528.36, test_loss: 1.56\n",
      "epoch 12, train_loss: 1520.86, test_loss: 1.573\n",
      "epoch 13, train_loss: 1512.38, test_loss: 1.563\n",
      "epoch 14, train_loss: 1505.68, test_loss: 1.551\n",
      "epoch 15, train_loss: 1498.88, test_loss: 1.544\n",
      "epoch 16, train_loss: 1492.26, test_loss: 1.538\n",
      "epoch 17, train_loss: 1486.25, test_loss: 1.537\n",
      "epoch 18, train_loss: 1478.84, test_loss: 1.529\n",
      "epoch 19, train_loss: 1473.52, test_loss: 1.517\n",
      "epoch 20, train_loss: 1467.87, test_loss: 1.52\n",
      "epoch 21, train_loss: 1462.42, test_loss: 1.523\n",
      "epoch 22, train_loss: 1455.44, test_loss: 1.513\n",
      "epoch 23, train_loss: 1451.39, test_loss: 1.528\n",
      "epoch 24, train_loss: 1445.84, test_loss: 1.491\n",
      "Training is finished!\n"
     ]
    }
   ],
   "source": [
    "train_losses = []\n",
    "test_losses = []\n",
    "\n",
    "for epoch in range(25):  \n",
    "    running_loss = 0.0\n",
    "    for i, data in enumerate(train_loader, 0):\n",
    "        inputs, labels = data[0], data[1]\n",
    "\n",
    "        # обнуляем градиент\n",
    "        optimizer.zero_grad()\n",
    "\n",
    "        outputs = net(inputs)\n",
    "        loss = criterion(outputs, labels)\n",
    "        loss.backward()\n",
    "        optimizer.step()\n",
    "\n",
    "        # выводим статистику о процессе обучения\n",
    "        running_loss += loss.item()\n",
    "#         if i % 300 == 0:    # печатаем каждые 300 mini-batches\n",
    "#             print('[%d, %5d] loss: %.3f' %\n",
    "#                   (epoch + 1, i + 1, running_loss / 2000))\n",
    "#             running_loss = 0.0\n",
    "    train_losses.append(running_loss)\n",
    "    test_losses.append(get_test_loss())\n",
    "    print(f'epoch {epoch}, train_loss: {round(running_loss, 2)}, test_loss: {test_losses[-1]}')\n",
    "\n",
    "print('Training is finished!')"
   ]
  },
  {
   "cell_type": "code",
   "execution_count": 24,
   "metadata": {},
   "outputs": [
    {
     "data": {
      "text/plain": [
       "[<matplotlib.lines.Line2D at 0x203d2f14438>]"
      ]
     },
     "execution_count": 24,
     "metadata": {},
     "output_type": "execute_result"
    },
    {
     "data": {
      "image/png": "[encoded data removed]",
      "text/plain": [
       "<Figure size 360x504 with 2 Axes>"
      ]
     },
     "metadata": {
      "needs_background": "light"
     },
     "output_type": "display_data"
    }
   ],
   "source": [
    "plt.figure(figsize=(5,7))\n",
    "\n",
    "plt.subplot(2, 1, 1)\n",
    "plt.plot(train_losses)\n",
    "\n",
    "plt.subplot(2, 1, 2)\n",
    "plt.plot(test_losses)"
   ]
  },
  {
   "cell_type": "markdown",
   "metadata": {},
   "source": [
    "Уже тестовая кривая обучения ведет себя немного по-другому - волатильней и угол наклона меняется, но потенциал, кажется, ещё есть некоторый."
   ]
  },
  {
   "cell_type": "code",
   "execution_count": 37,
   "metadata": {},
   "outputs": [
    {
     "data": {
      "text/plain": [
       "tensor(0.4600)"
      ]
     },
     "execution_count": 37,
     "metadata": {},
     "output_type": "execute_result"
    }
   ],
   "source": [
    "# Доля верно спредикченных лейблов.\n",
    "def get_true_labels_rate():\n",
    "    preds = list(torch.max(net(list(test_loader)[2][0]), 1)[1])\n",
    "    trues = list(test_loader)[2][1]\n",
    "    \n",
    "    matches = torch.FloatTensor([(1 if preds[i] == trues[i] else 0) for i in range(len(preds))])\n",
    "    \n",
    "    return matches.mean()\n",
    "    \n",
    "get_true_labels_rate()"
   ]
  },
  {
   "cell_type": "code",
   "execution_count": 43,
   "metadata": {},
   "outputs": [
    {
     "name": "stdout",
     "output_type": "stream",
     "text": [
      "epoch 0, train_loss: 1439.59, test_loss: 1.536\n",
      "epoch 1, train_loss: 1433.63, test_loss: 1.487\n",
      "epoch 2, train_loss: 1429.42, test_loss: 1.521\n",
      "epoch 3, train_loss: 1423.78, test_loss: 1.49\n",
      "epoch 4, train_loss: 1420.17, test_loss: 1.475\n",
      "epoch 5, train_loss: 1413.2, test_loss: 1.473\n",
      "epoch 6, train_loss: 1408.49, test_loss: 1.523\n",
      "epoch 7, train_loss: 1405.03, test_loss: 1.472\n",
      "epoch 8, train_loss: 1400.17, test_loss: 1.467\n",
      "epoch 9, train_loss: 1395.57, test_loss: 1.477\n",
      "epoch 10, train_loss: 1391.06, test_loss: 1.472\n",
      "epoch 11, train_loss: 1388.05, test_loss: 1.478\n",
      "epoch 12, train_loss: 1381.16, test_loss: 1.47\n",
      "epoch 13, train_loss: 1377.86, test_loss: 1.444\n",
      "epoch 14, train_loss: 1371.94, test_loss: 1.448\n",
      "epoch 15, train_loss: 1369.64, test_loss: 1.424\n",
      "epoch 16, train_loss: 1363.4, test_loss: 1.485\n",
      "epoch 17, train_loss: 1359.98, test_loss: 1.446\n",
      "epoch 18, train_loss: 1355.92, test_loss: 1.421\n",
      "epoch 19, train_loss: 1351.98, test_loss: 1.383\n",
      "epoch 20, train_loss: 1346.69, test_loss: 1.451\n",
      "epoch 21, train_loss: 1343.78, test_loss: 1.408\n",
      "epoch 22, train_loss: 1341.01, test_loss: 1.388\n",
      "epoch 23, train_loss: 1335.75, test_loss: 1.4\n",
      "epoch 24, train_loss: 1331.35, test_loss: 1.44\n",
      "Training is finished!\n"
     ]
    }
   ],
   "source": [
    "train_losses = []\n",
    "test_losses = []\n",
    "\n",
    "for epoch in range(25):  \n",
    "    running_loss = 0.0\n",
    "    for i, data in enumerate(train_loader, 0):\n",
    "        inputs, labels = data[0], data[1]\n",
    "\n",
    "        # обнуляем градиент\n",
    "        optimizer.zero_grad()\n",
    "\n",
    "        outputs = net(inputs)\n",
    "        loss = criterion(outputs, labels)\n",
    "        loss.backward()\n",
    "        optimizer.step()\n",
    "\n",
    "        # выводим статистику о процессе обучения\n",
    "        running_loss += loss.item()\n",
    "#         if i % 300 == 0:    # печатаем каждые 300 mini-batches\n",
    "#             print('[%d, %5d] loss: %.3f' %\n",
    "#                   (epoch + 1, i + 1, running_loss / 2000))\n",
    "#             running_loss = 0.0\n",
    "    train_losses.append(running_loss)\n",
    "    test_losses.append(get_test_loss())\n",
    "    print(f'epoch {epoch}, train_loss: {round(running_loss, 2)}, test_loss: {test_losses[-1]}')\n",
    "\n",
    "print('Training is finished!')"
   ]
  },
  {
   "cell_type": "code",
   "execution_count": 45,
   "metadata": {},
   "outputs": [
    {
     "data": {
      "text/plain": [
       "[<matplotlib.lines.Line2D at 0x203d1970eb8>]"
      ]
     },
     "execution_count": 45,
     "metadata": {},
     "output_type": "execute_result"
    },
    {
     "data": {
      "image/png": "[encoded data removed]",
      "text/plain": [
       "<Figure size 360x504 with 2 Axes>"
      ]
     },
     "metadata": {
      "needs_background": "light"
     },
     "output_type": "display_data"
    }
   ],
   "source": [
    "plt.figure(figsize=(5,7))\n",
    "\n",
    "plt.subplot(2, 1, 1)\n",
    "plt.plot(train_losses)\n",
    "\n",
    "plt.subplot(2, 1, 2)\n",
    "plt.plot(test_losses)"
   ]
  },
  {
   "cell_type": "code",
   "execution_count": 44,
   "metadata": {},
   "outputs": [
    {
     "data": {
      "text/plain": [
       "tensor(0.4900)"
      ]
     },
     "execution_count": 44,
     "metadata": {},
     "output_type": "execute_result"
    }
   ],
   "source": [
    "get_true_labels_rate()"
   ]
  },
  {
   "cell_type": "markdown",
   "metadata": {},
   "source": [
    "Доля верно угаданных приросла ещё на 3%, кривая обучения на тестовых данных показывала на прошедшем 25-итерационном цикле совсем другой наклон и волатильность, но тренд ещё прослеживается, ещё разок прогоним 25 эпох."
   ]
  },
  {
   "cell_type": "code",
   "execution_count": 51,
   "metadata": {},
   "outputs": [
    {
     "name": "stdout",
     "output_type": "stream",
     "text": [
      "epoch 0, train_loss: 1328.78, test_loss: 1.395\n",
      "epoch 1, train_loss: 1324.24, test_loss: 1.362\n",
      "epoch 2, train_loss: 1320.8, test_loss: 1.353\n",
      "epoch 3, train_loss: 1316.28, test_loss: 1.4\n",
      "epoch 4, train_loss: 1313.66, test_loss: 1.38\n",
      "epoch 5, train_loss: 1309.35, test_loss: 1.345\n",
      "epoch 6, train_loss: 1305.55, test_loss: 1.356\n",
      "epoch 7, train_loss: 1302.68, test_loss: 1.327\n",
      "epoch 8, train_loss: 1296.75, test_loss: 1.37\n",
      "epoch 9, train_loss: 1293.7, test_loss: 1.311\n",
      "epoch 10, train_loss: 1291.8, test_loss: 1.331\n",
      "epoch 11, train_loss: 1288.78, test_loss: 1.327\n",
      "epoch 12, train_loss: 1283.38, test_loss: 1.345\n",
      "epoch 13, train_loss: 1280.7, test_loss: 1.311\n",
      "epoch 14, train_loss: 1274.96, test_loss: 1.331\n",
      "epoch 15, train_loss: 1274.74, test_loss: 1.303\n",
      "epoch 16, train_loss: 1269.92, test_loss: 1.323\n",
      "epoch 17, train_loss: 1268.33, test_loss: 1.321\n",
      "epoch 18, train_loss: 1264.09, test_loss: 1.366\n",
      "epoch 19, train_loss: 1261.0, test_loss: 1.3\n",
      "epoch 20, train_loss: 1258.87, test_loss: 1.28\n",
      "epoch 21, train_loss: 1255.48, test_loss: 1.3\n",
      "epoch 22, train_loss: 1251.46, test_loss: 1.317\n",
      "epoch 23, train_loss: 1249.63, test_loss: 1.299\n",
      "epoch 24, train_loss: 1245.79, test_loss: 1.278\n",
      "Training is finished!\n"
     ]
    }
   ],
   "source": [
    "train_losses = []\n",
    "test_losses = []\n",
    "\n",
    "for epoch in range(25):  \n",
    "    running_loss = 0.0\n",
    "    for i, data in enumerate(train_loader, 0):\n",
    "        inputs, labels = data[0], data[1]\n",
    "\n",
    "        # обнуляем градиент\n",
    "        optimizer.zero_grad()\n",
    "\n",
    "        outputs = net(inputs)\n",
    "        loss = criterion(outputs, labels)\n",
    "        loss.backward()\n",
    "        optimizer.step()\n",
    "\n",
    "        # выводим статистику о процессе обучения\n",
    "        running_loss += loss.item()\n",
    "#         if i % 300 == 0:    # печатаем каждые 300 mini-batches\n",
    "#             print('[%d, %5d] loss: %.3f' %\n",
    "#                   (epoch + 1, i + 1, running_loss / 2000))\n",
    "#             running_loss = 0.0\n",
    "    train_losses.append(running_loss)\n",
    "    test_losses.append(get_test_loss())\n",
    "    print(f'epoch {epoch}, train_loss: {round(running_loss, 2)}, test_loss: {test_losses[-1]}')\n",
    "\n",
    "print('Training is finished!')"
   ]
  },
  {
   "cell_type": "code",
   "execution_count": 52,
   "metadata": {},
   "outputs": [
    {
     "data": {
      "text/plain": [
       "[<matplotlib.lines.Line2D at 0x203d35bdac8>]"
      ]
     },
     "execution_count": 52,
     "metadata": {},
     "output_type": "execute_result"
    },
    {
     "data": {
      "image/png": "[encoded data removed]",
      "text/plain": [
       "<Figure size 360x504 with 2 Axes>"
      ]
     },
     "metadata": {
      "needs_background": "light"
     },
     "output_type": "display_data"
    }
   ],
   "source": [
    "plt.figure(figsize=(5,7))\n",
    "\n",
    "plt.subplot(2, 1, 1)\n",
    "plt.plot(train_losses)\n",
    "\n",
    "\n",
    "plt.subplot(2, 1, 2)\n",
    "plt.plot(test_losses)"
   ]
  },
  {
   "cell_type": "code",
   "execution_count": 53,
   "metadata": {},
   "outputs": [
    {
     "data": {
      "text/plain": [
       "tensor(0.5300)"
      ]
     },
     "execution_count": 53,
     "metadata": {},
     "output_type": "execute_result"
    }
   ],
   "source": [
    "get_true_labels_rate()"
   ]
  },
  {
   "cell_type": "markdown",
   "metadata": {},
   "source": [
    "Пойду на турники, пусть ещё пообучается немного."
   ]
  },
  {
   "cell_type": "code",
   "execution_count": 60,
   "metadata": {},
   "outputs": [
    {
     "name": "stdout",
     "output_type": "stream",
     "text": [
      "epoch 0, train_loss: 1240.65, test_loss: 1.283\n",
      "epoch 1, train_loss: 1238.45, test_loss: 1.3\n",
      "epoch 2, train_loss: 1233.37, test_loss: 1.282\n",
      "epoch 3, train_loss: 1233.42, test_loss: 1.282\n",
      "epoch 4, train_loss: 1229.9, test_loss: 1.286\n",
      "epoch 5, train_loss: 1226.78, test_loss: 1.268\n",
      "epoch 6, train_loss: 1224.12, test_loss: 1.311\n",
      "epoch 7, train_loss: 1221.24, test_loss: 1.257\n",
      "epoch 8, train_loss: 1217.81, test_loss: 1.253\n",
      "epoch 9, train_loss: 1215.36, test_loss: 1.262\n",
      "epoch 10, train_loss: 1212.84, test_loss: 1.316\n",
      "epoch 11, train_loss: 1210.41, test_loss: 1.273\n",
      "epoch 12, train_loss: 1208.62, test_loss: 1.238\n",
      "epoch 13, train_loss: 1204.02, test_loss: 1.295\n",
      "epoch 14, train_loss: 1202.07, test_loss: 1.332\n",
      "epoch 15, train_loss: 1200.59, test_loss: 1.236\n",
      "epoch 16, train_loss: 1197.36, test_loss: 1.247\n",
      "epoch 17, train_loss: 1195.02, test_loss: 1.255\n",
      "epoch 18, train_loss: 1193.81, test_loss: 1.262\n",
      "epoch 19, train_loss: 1189.8, test_loss: 1.273\n",
      "epoch 20, train_loss: 1186.49, test_loss: 1.262\n",
      "epoch 21, train_loss: 1185.82, test_loss: 1.309\n",
      "epoch 22, train_loss: 1182.19, test_loss: 1.281\n",
      "epoch 23, train_loss: 1179.4, test_loss: 1.244\n",
      "epoch 24, train_loss: 1177.39, test_loss: 1.282\n",
      "epoch 25, train_loss: 1174.29, test_loss: 1.281\n",
      "epoch 26, train_loss: 1174.08, test_loss: 1.285\n",
      "epoch 27, train_loss: 1171.13, test_loss: 1.261\n",
      "epoch 28, train_loss: 1167.8, test_loss: 1.234\n",
      "epoch 29, train_loss: 1166.8, test_loss: 1.295\n",
      "epoch 30, train_loss: 1165.43, test_loss: 1.237\n",
      "epoch 31, train_loss: 1161.06, test_loss: 1.249\n",
      "epoch 32, train_loss: 1159.93, test_loss: 1.28\n",
      "epoch 33, train_loss: 1158.38, test_loss: 1.297\n",
      "epoch 34, train_loss: 1156.38, test_loss: 1.253\n",
      "epoch 35, train_loss: 1152.91, test_loss: 1.261\n",
      "epoch 36, train_loss: 1151.04, test_loss: 1.217\n",
      "epoch 37, train_loss: 1147.37, test_loss: 1.266\n",
      "epoch 38, train_loss: 1148.61, test_loss: 1.271\n",
      "epoch 39, train_loss: 1143.0, test_loss: 1.279\n",
      "epoch 40, train_loss: 1142.33, test_loss: 1.304\n",
      "epoch 41, train_loss: 1139.85, test_loss: 1.252\n",
      "epoch 42, train_loss: 1137.68, test_loss: 1.24\n",
      "epoch 43, train_loss: 1136.18, test_loss: 1.342\n",
      "epoch 44, train_loss: 1132.73, test_loss: 1.296\n",
      "epoch 45, train_loss: 1133.09, test_loss: 1.325\n",
      "epoch 46, train_loss: 1128.59, test_loss: 1.286\n",
      "epoch 47, train_loss: 1128.57, test_loss: 1.276\n",
      "epoch 48, train_loss: 1125.96, test_loss: 1.255\n",
      "epoch 49, train_loss: 1122.44, test_loss: 1.261\n",
      "epoch 50, train_loss: 1120.56, test_loss: 1.259\n",
      "epoch 51, train_loss: 1119.96, test_loss: 1.217\n",
      "epoch 52, train_loss: 1117.63, test_loss: 1.253\n",
      "epoch 53, train_loss: 1114.86, test_loss: 1.253\n",
      "epoch 54, train_loss: 1113.0, test_loss: 1.258\n",
      "epoch 55, train_loss: 1111.01, test_loss: 1.249\n",
      "epoch 56, train_loss: 1109.11, test_loss: 1.266\n",
      "epoch 57, train_loss: 1109.32, test_loss: 1.239\n",
      "epoch 58, train_loss: 1107.26, test_loss: 1.253\n",
      "epoch 59, train_loss: 1102.02, test_loss: 1.232\n",
      "epoch 60, train_loss: 1100.7, test_loss: 1.247\n",
      "epoch 61, train_loss: 1099.02, test_loss: 1.268\n",
      "epoch 62, train_loss: 1098.12, test_loss: 1.246\n",
      "epoch 63, train_loss: 1094.17, test_loss: 1.233\n",
      "epoch 64, train_loss: 1093.12, test_loss: 1.209\n",
      "epoch 65, train_loss: 1092.1, test_loss: 1.247\n",
      "epoch 66, train_loss: 1091.17, test_loss: 1.219\n",
      "epoch 67, train_loss: 1087.06, test_loss: 1.229\n",
      "epoch 68, train_loss: 1087.3, test_loss: 1.262\n",
      "epoch 69, train_loss: 1083.04, test_loss: 1.282\n",
      "epoch 70, train_loss: 1081.57, test_loss: 1.279\n",
      "epoch 71, train_loss: 1081.27, test_loss: 1.234\n",
      "epoch 72, train_loss: 1077.52, test_loss: 1.218\n",
      "epoch 73, train_loss: 1076.75, test_loss: 1.249\n",
      "epoch 74, train_loss: 1074.78, test_loss: 1.225\n",
      "epoch 75, train_loss: 1073.83, test_loss: 1.243\n"
     ]
    },
    {
     "ename": "KeyboardInterrupt",
     "evalue": "",
     "output_type": "error",
     "traceback": [
      "\u001b[1;31m---------------------------------------------------------------------------\u001b[0m",
      "\u001b[1;31mKeyboardInterrupt\u001b[0m                         Traceback (most recent call last)",
      "\u001b[1;32m<ipython-input-60-f127fb10ab09>\u001b[0m in \u001b[0;36m<module>\u001b[1;34m\u001b[0m\n\u001b[0;32m     12\u001b[0m         \u001b[0moutputs\u001b[0m \u001b[1;33m=\u001b[0m \u001b[0mnet\u001b[0m\u001b[1;33m(\u001b[0m\u001b[0minputs\u001b[0m\u001b[1;33m)\u001b[0m\u001b[1;33m\u001b[0m\u001b[1;33m\u001b[0m\u001b[0m\n\u001b[0;32m     13\u001b[0m         \u001b[0mloss\u001b[0m \u001b[1;33m=\u001b[0m \u001b[0mcriterion\u001b[0m\u001b[1;33m(\u001b[0m\u001b[0moutputs\u001b[0m\u001b[1;33m,\u001b[0m \u001b[0mlabels\u001b[0m\u001b[1;33m)\u001b[0m\u001b[1;33m\u001b[0m\u001b[1;33m\u001b[0m\u001b[0m\n\u001b[1;32m---> 14\u001b[1;33m         \u001b[0mloss\u001b[0m\u001b[1;33m.\u001b[0m\u001b[0mbackward\u001b[0m\u001b[1;33m(\u001b[0m\u001b[1;33m)\u001b[0m\u001b[1;33m\u001b[0m\u001b[1;33m\u001b[0m\u001b[0m\n\u001b[0m\u001b[0;32m     15\u001b[0m         \u001b[0moptimizer\u001b[0m\u001b[1;33m.\u001b[0m\u001b[0mstep\u001b[0m\u001b[1;33m(\u001b[0m\u001b[1;33m)\u001b[0m\u001b[1;33m\u001b[0m\u001b[1;33m\u001b[0m\u001b[0m\n\u001b[0;32m     16\u001b[0m \u001b[1;33m\u001b[0m\u001b[0m\n",
      "\u001b[1;32m~\\Anaconda3\\lib\\site-packages\\torch\\tensor.py\u001b[0m in \u001b[0;36mbackward\u001b[1;34m(self, gradient, retain_graph, create_graph)\u001b[0m\n\u001b[0;32m    183\u001b[0m                 \u001b[0mproducts\u001b[0m\u001b[1;33m.\u001b[0m \u001b[0mDefaults\u001b[0m \u001b[0mto\u001b[0m\u001b[0;31m \u001b[0m\u001b[0;31m`\u001b[0m\u001b[0;31m`\u001b[0m\u001b[1;32mFalse\u001b[0m\u001b[0;31m`\u001b[0m\u001b[0;31m`\u001b[0m\u001b[1;33m.\u001b[0m\u001b[1;33m\u001b[0m\u001b[1;33m\u001b[0m\u001b[0m\n\u001b[0;32m    184\u001b[0m         \"\"\"\n\u001b[1;32m--> 185\u001b[1;33m         \u001b[0mtorch\u001b[0m\u001b[1;33m.\u001b[0m\u001b[0mautograd\u001b[0m\u001b[1;33m.\u001b[0m\u001b[0mbackward\u001b[0m\u001b[1;33m(\u001b[0m\u001b[0mself\u001b[0m\u001b[1;33m,\u001b[0m \u001b[0mgradient\u001b[0m\u001b[1;33m,\u001b[0m \u001b[0mretain_graph\u001b[0m\u001b[1;33m,\u001b[0m \u001b[0mcreate_graph\u001b[0m\u001b[1;33m)\u001b[0m\u001b[1;33m\u001b[0m\u001b[1;33m\u001b[0m\u001b[0m\n\u001b[0m\u001b[0;32m    186\u001b[0m \u001b[1;33m\u001b[0m\u001b[0m\n\u001b[0;32m    187\u001b[0m     \u001b[1;32mdef\u001b[0m \u001b[0mregister_hook\u001b[0m\u001b[1;33m(\u001b[0m\u001b[0mself\u001b[0m\u001b[1;33m,\u001b[0m \u001b[0mhook\u001b[0m\u001b[1;33m)\u001b[0m\u001b[1;33m:\u001b[0m\u001b[1;33m\u001b[0m\u001b[1;33m\u001b[0m\u001b[0m\n",
      "\u001b[1;32m~\\Anaconda3\\lib\\site-packages\\torch\\autograd\\__init__.py\u001b[0m in \u001b[0;36mbackward\u001b[1;34m(tensors, grad_tensors, retain_graph, create_graph, grad_variables)\u001b[0m\n\u001b[0;32m    125\u001b[0m     Variable._execution_engine.run_backward(\n\u001b[0;32m    126\u001b[0m         \u001b[0mtensors\u001b[0m\u001b[1;33m,\u001b[0m \u001b[0mgrad_tensors\u001b[0m\u001b[1;33m,\u001b[0m \u001b[0mretain_graph\u001b[0m\u001b[1;33m,\u001b[0m \u001b[0mcreate_graph\u001b[0m\u001b[1;33m,\u001b[0m\u001b[1;33m\u001b[0m\u001b[1;33m\u001b[0m\u001b[0m\n\u001b[1;32m--> 127\u001b[1;33m         allow_unreachable=True)  # allow_unreachable flag\n\u001b[0m\u001b[0;32m    128\u001b[0m \u001b[1;33m\u001b[0m\u001b[0m\n\u001b[0;32m    129\u001b[0m \u001b[1;33m\u001b[0m\u001b[0m\n",
      "\u001b[1;31mKeyboardInterrupt\u001b[0m: "
     ]
    }
   ],
   "source": [
    "train_losses = []\n",
    "test_losses = []\n",
    "\n",
    "for epoch in range(175):  \n",
    "    running_loss = 0.0\n",
    "    for i, data in enumerate(train_loader, 0):\n",
    "        inputs, labels = data[0], data[1]\n",
    "\n",
    "        # обнуляем градиент\n",
    "        optimizer.zero_grad()\n",
    "\n",
    "        outputs = net(inputs)\n",
    "        loss = criterion(outputs, labels)\n",
    "        loss.backward()\n",
    "        optimizer.step()\n",
    "\n",
    "        # выводим статистику о процессе обучения\n",
    "        running_loss += loss.item()\n",
    "#         if i % 300 == 0:    # печатаем каждые 300 mini-batches\n",
    "#             print('[%d, %5d] loss: %.3f' %\n",
    "#                   (epoch + 1, i + 1, running_loss / 2000))\n",
    "#             running_loss = 0.0\n",
    "    train_losses.append(running_loss)\n",
    "    test_losses.append(get_test_loss())\n",
    "    print(f'epoch {epoch}, train_loss: {round(running_loss, 2)}, test_loss: {test_losses[-1]}')\n",
    "\n",
    "print('Training is finished!')"
   ]
  },
  {
   "cell_type": "code",
   "execution_count": 61,
   "metadata": {},
   "outputs": [
    {
     "data": {
      "text/plain": [
       "[<matplotlib.lines.Line2D at 0x203d3bb7be0>]"
      ]
     },
     "execution_count": 61,
     "metadata": {},
     "output_type": "execute_result"
    },
    {
     "data": {
      "image/png": "[encoded data removed]",
      "text/plain": [
       "<Figure size 360x504 with 2 Axes>"
      ]
     },
     "metadata": {
      "needs_background": "light"
     },
     "output_type": "display_data"
    }
   ],
   "source": [
    "plt.figure(figsize=(5,7))\n",
    "\n",
    "plt.subplot(2, 1, 1)\n",
    "plt.plot(train_losses)\n",
    "\n",
    "plt.subplot(2, 1, 2)\n",
    "plt.plot(test_losses)"
   ]
  },
  {
   "cell_type": "code",
   "execution_count": 62,
   "metadata": {},
   "outputs": [
    {
     "data": {
      "text/plain": [
       "tensor(0.5600)"
      ]
     },
     "execution_count": 62,
     "metadata": {},
     "output_type": "execute_result"
    }
   ],
   "source": [
    "get_true_labels_rate()"
   ]
  },
  {
   "cell_type": "markdown",
   "metadata": {},
   "source": [
    "##### Оценка модели:"
   ]
  },
  {
   "cell_type": "code",
   "execution_count": 67,
   "metadata": {},
   "outputs": [],
   "source": [
    "data_iter = iter(test_loader)\n",
    "images, labels = data_iter.next()\n",
    "\n",
    "images = images[10:14]; labels = labels[10:14]"
   ]
  },
  {
   "cell_type": "code",
   "execution_count": 68,
   "metadata": {},
   "outputs": [
    {
     "name": "stdout",
     "output_type": "stream",
     "text": [
      "GroundTruth:  airplane truck   dog horse\n"
     ]
    },
    {
     "data": {
      "image/png": "[encoded data removed]",
      "text/plain": [
       "<Figure size 432x288 with 1 Axes>"
      ]
     },
     "metadata": {
      "needs_background": "light"
     },
     "output_type": "display_data"
    }
   ],
   "source": [
    "outputs = net(images)\n",
    "imgs = torchvision.utils.make_grid(images)\n",
    "plt.imshow(imgs.permute(1, 2, 0).numpy())\n",
    "print('GroundTruth: ', ' '.join('%5s' % classes[labels[j]] for j in range(4)))"
   ]
  },
  {
   "cell_type": "code",
   "execution_count": 69,
   "metadata": {},
   "outputs": [
    {
     "name": "stdout",
     "output_type": "stream",
     "text": [
      "Predicted:  airplane truck   dog horse\n"
     ]
    }
   ],
   "source": [
    "_, predicted = torch.max(outputs, 1)\n",
    "\n",
    "print('Predicted: ', ' '.join('%5s' % classes[predicted[j]]\n",
    "                              for j in range(4)))"
   ]
  },
  {
   "cell_type": "markdown",
   "metadata": {},
   "source": [
    "##### Комментарии и выводы:"
   ]
  },
  {
   "cell_type": "markdown",
   "metadata": {},
   "source": [
    "Что сделал:\n",
    "* Увеличил кол-во эпох потому что модель показывала высокие темы обучения на 10-й эпохе.\n",
    "* Убрал один из полносвязных слоев для уменьшения возможного переобучения.\n",
    "* Самое важное, кажется - уменьшил learning rate в оптимизаторе, потому что, кажется, именно он влиял на то, что при обучении не менялась ошибка, похоже, из-за слишком большого шага при оптимизации обучение попадало в локальный минимум функции ошибки и застревало в нем."
   ]
  },
  {
   "cell_type": "markdown",
   "metadata": {},
   "source": [
    "### Task_2:"
   ]
  },
  {
   "cell_type": "markdown",
   "metadata": {},
   "source": [
    "Взять часть, где мы делали один шаг обучения, и обернуть его в цикл по схеме,\n",
    "как обучали модель в конце занятия."
   ]
  },
  {
   "cell_type": "code",
   "execution_count": null,
   "metadata": {},
   "outputs": [],
   "source": []
  },
  {
   "cell_type": "markdown",
   "metadata": {},
   "source": [
    "### Task_3:"
   ]
  },
  {
   "cell_type": "markdown",
   "metadata": {},
   "source": [
    "Переписать программу на PyTorch"
   ]
  },
  {
   "cell_type": "markdown",
   "metadata": {},
   "source": [
    "Надо запускать и дебажить - не запускал, но как-то так это могло бы выглядеть."
   ]
  },
  {
   "cell_type": "code",
   "execution_count": 71,
   "metadata": {},
   "outputs": [],
   "source": [
    "import torch.nn.functional as F\n",
    "\n",
    "\n",
    "class Net(nn.Module):\n",
    "    def __init__(self):\n",
    "        super().__init__()\n",
    "        self.linear_1 = nn.Linear(128, 10)\n",
    "        self.dropout = nn.Dropout(p=0.2)\n",
    "        self.linear_2 = nn.Linear(10, 10)\n",
    "\n",
    "    def forward(self, x):\n",
    "        x = F.relu(self.linear_1(x))\n",
    "        x = self.dropout(x)\n",
    "        x = F.softmax(self.linear_2(x))\n",
    "        return x\n",
    "\n",
    "\n",
    "net = Net().to('cpu')"
   ]
  }
 ],
 "metadata": {
  "hide_input": false,
  "kernelspec": {
   "display_name": "Python 3",
   "language": "python",
   "name": "python3"
  },
  "language_info": {
   "codemirror_mode": {
    "name": "ipython",
    "version": 3
   },
   "file_extension": ".py",
   "mimetype": "text/x-python",
   "name": "python",
   "nbconvert_exporter": "python",
   "pygments_lexer": "ipython3",
   "version": "3.7.3"
  },
  "toc": {
   "base_numbering": 1,
   "nav_menu": {},
   "number_sections": true,
   "sideBar": false,
   "skip_h1_title": false,
   "title_cell": "Table of Contents",
   "title_sidebar": "Contents",
   "toc_cell": false,
   "toc_position": {},
   "toc_section_display": true,
   "toc_window_display": false
  }
 },
 "nbformat": 4,
 "nbformat_minor": 2
}
