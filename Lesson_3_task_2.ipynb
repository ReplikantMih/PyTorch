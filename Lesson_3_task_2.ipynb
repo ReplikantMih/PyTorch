{
 "cells": [
  {
   "cell_type": "markdown",
   "metadata": {
    "heading_collapsed": true
   },
   "source": [
    "### Import"
   ]
  },
  {
   "cell_type": "code",
   "execution_count": 201,
   "metadata": {
    "hidden": true
   },
   "outputs": [],
   "source": [
    "import os\n",
    "import numpy as np\n",
    "import math\n",
    "\n",
    "from torch.utils.data import DataLoader\n",
    "import torchvision.transforms as transforms\n",
    "from torchvision import datasets\n",
    "from torch.autograd import Variable\n",
    "\n",
    "import torch.nn as nn\n",
    "import torch.nn.functional as functional\n",
    "import torch\n",
    "from torch import functional as F\n",
    "\n",
    "########### Вывод изображений и сохранение ################################\n",
    "import matplotlib.pyplot as plt\n",
    "from IPython import display\n",
    "from torchvision.utils import save_image, make_grid"
   ]
  },
  {
   "cell_type": "markdown",
   "metadata": {},
   "source": [
    "### Task_2:"
   ]
  },
  {
   "cell_type": "markdown",
   "metadata": {
    "heading_collapsed": true
   },
   "source": [
    "##### Описание задачи"
   ]
  },
  {
   "cell_type": "markdown",
   "metadata": {
    "hidden": true
   },
   "source": [
    "Изменить используемые модели генератора и дискриминатора, с помощью сверточных слоев. Идея: https://arxiv.org/abs/1511.06434 Датасет можно использовать так же MNIST."
   ]
  },
  {
   "cell_type": "markdown",
   "metadata": {
    "heading_collapsed": true
   },
   "source": [
    "##### Устройство"
   ]
  },
  {
   "cell_type": "code",
   "execution_count": 2,
   "metadata": {
    "hidden": true
   },
   "outputs": [
    {
     "name": "stdout",
     "output_type": "stream",
     "text": [
      "cpu\n"
     ]
    }
   ],
   "source": [
    "use_cuda = torch.cuda.is_available()\n",
    "# device = torch.device(\"cpu\")\n",
    "device = torch.device('cuda') if torch.cuda.is_available() else torch.device('cpu')\n",
    "print(device)"
   ]
  },
  {
   "cell_type": "markdown",
   "metadata": {
    "heading_collapsed": true
   },
   "source": [
    "##### Вспомогательные функции"
   ]
  },
  {
   "cell_type": "code",
   "execution_count": 3,
   "metadata": {
    "code_folding": [
     1
    ],
    "hidden": true
   },
   "outputs": [],
   "source": [
    "######## функция для вывода и сохранения изображения ########\n",
    "def sample_image(static_sample, save_img = False):\n",
    "    npimg = make_grid(static_sample.data[:25]).cpu().numpy()\n",
    "    fig, ax = plt.subplots(figsize=(7, 7))\n",
    "    ax.imshow(np.transpose(npimg, (1,2,0)), interpolation=\"nearest\")\n",
    "    if save_img:\n",
    "        save_image(gen_imgs.data[:25], \"images/%d.png\" % batches_done, nrow=5, normalize=True)"
   ]
  },
  {
   "cell_type": "markdown",
   "metadata": {
    "heading_collapsed": true
   },
   "source": [
    "##### Параметры модели"
   ]
  },
  {
   "cell_type": "code",
   "execution_count": 4,
   "metadata": {
    "hidden": true
   },
   "outputs": [],
   "source": [
    "n_epochs = 200\n",
    "batch_size = 64\n",
    "lr = 0.0002\n",
    "\n",
    "b1 = 0.5\n",
    "b2 = 0.999\n",
    "\n",
    "latent_dim = 100\n",
    "\n",
    "n_classes = 10\n",
    "img_size = 28\n",
    "channels = 1\n",
    "\n",
    "sample_interval = 25\n",
    "\n",
    "img_shape = (channels, img_size, img_size)"
   ]
  },
  {
   "cell_type": "markdown",
   "metadata": {},
   "source": [
    "##### Класс Generator"
   ]
  },
  {
   "cell_type": "code",
   "execution_count": 19,
   "metadata": {
    "code_folding": [
     0
    ]
   },
   "outputs": [],
   "source": [
    "class Generator(nn.Module):\n",
    "    def __init__(self):\n",
    "        super().__init__()\n",
    "        \n",
    "        def block(in_feat, out_feat, normalize=True): #activation='relu\n",
    "            layers = [nn.Linear(in_feat, out_feat)]\n",
    "            if normalize:\n",
    "                layers.append(nn.BatchNorm1d(out_feat, 0.8))\n",
    "            layers.append(nn.LeakyReLU(0.2, inplace=True))\n",
    "            return layers\n",
    "\n",
    "        self.model = nn.Sequential(\n",
    "            *block(latent_dim, 128, normalize=False),\n",
    "#             nn.Conv2d(128, 256, 3),\n",
    "            *block(128, 256),\n",
    "            *block(256, 512),\n",
    "            *block(512, 1024),\n",
    "            nn.Linear(1024, int(np.prod(img_shape))),\n",
    "            nn.Tanh()\n",
    "        )\n",
    "#         self.activations = nn.ModuleDict([\n",
    "#                 ['lrelu', nn.LeakyReLU()],\n",
    "#                 ['relu', nn.ReLU()]])\n",
    "\n",
    "    def forward(self, z):\n",
    "        img = self.model(z)\n",
    "        img = img.view(img.size(0), *img_shape)\n",
    "        print('gen_output_shape', img.shape)\n",
    "        return img\n",
    "\n",
    "    \n",
    "gen = Generator().to(device)"
   ]
  },
  {
   "cell_type": "raw",
   "metadata": {
    "code_folding": []
   },
   "source": [
    "class Generator(nn.Module):\n",
    "    def __init__(self):\n",
    "        super().__init__()\n",
    "        \n",
    "        self.linear_1 = nn.Linear(latent_dim, 128)\n",
    "        self.conv_1 = nn.Conv2d(in_channels=128, out_channels=256, kernel_size=3)\n",
    "        self.linear_2 = nn.Linear(128, 256)\n",
    "        self.linear_3 = nn.Linear(256, 512)\n",
    "        self.linear_4 = nn.Linear(512, 1024)\n",
    "        self.linear_5 = nn.Linear(1024, int(np.prod(img_shape)))\n",
    "        \n",
    "    def forward(self, X):\n",
    "        print('shapes')\n",
    "        print(0, X.shape)\n",
    "        X = self.linear_1(X)\n",
    "        print(1, X.shape)\n",
    "        X = functional.relu(X)\n",
    "        print(2, X.shape)\n",
    "#         X = self.linear_2(X)\n",
    "        \n",
    "\n",
    "        X = self.conv_1(X.view(-1, *X.shape))\n",
    "        print(3, X.shape)\n",
    "        \n",
    "        X = functional.relu(X)\n",
    "        X = self.linear_3(X)\n",
    "        X = functional.relu(X)\n",
    "        X = self.linear_4(X)\n",
    "        X = functional.relu(X)\n",
    "        X = self.linear_5(X)\n",
    "        X = torch.tanh(X)\n",
    "        \n",
    "        X = X.view(X.size(0), *img_shape)\n",
    "        return X"
   ]
  },
  {
   "cell_type": "code",
   "execution_count": 6,
   "metadata": {},
   "outputs": [
    {
     "name": "stdout",
     "output_type": "stream",
     "text": [
      "model.0.weight torch.Size([128, 100])\n",
      "model.0.bias torch.Size([128])\n",
      "model.2.weight torch.Size([256, 128])\n",
      "model.2.bias torch.Size([256])\n",
      "model.3.weight torch.Size([256])\n",
      "model.3.bias torch.Size([256])\n",
      "model.5.weight torch.Size([512, 256])\n",
      "model.5.bias torch.Size([512])\n",
      "model.6.weight torch.Size([512])\n",
      "model.6.bias torch.Size([512])\n",
      "model.8.weight torch.Size([1024, 512])\n",
      "model.8.bias torch.Size([1024])\n",
      "model.9.weight torch.Size([1024])\n",
      "model.9.bias torch.Size([1024])\n",
      "model.11.weight torch.Size([784, 1024])\n",
      "model.11.bias torch.Size([784])\n"
     ]
    }
   ],
   "source": [
    "g = Generator()\n",
    "\n",
    "for name, parameter in g.named_parameters():\n",
    "    print(name, parameter.shape)"
   ]
  },
  {
   "cell_type": "raw",
   "metadata": {},
   "source": [
    "shapes\n",
    "0 torch.Size([64, 100])\n",
    "1 torch.Size([64, 128])\n",
    "2 torch.Size([64, 128])\n",
    "\n",
    "RuntimeError: Given groups=1, weight of size [256, 128, 3], expected input[1, 64, 128] to have 128 channels, but got 64 channels instead"
   ]
  },
  {
   "cell_type": "code",
   "execution_count": 7,
   "metadata": {},
   "outputs": [
    {
     "name": "stdout",
     "output_type": "stream",
     "text": [
      "Object `g.parameter` not found.\n"
     ]
    }
   ],
   "source": [
    "??g.parameter"
   ]
  },
  {
   "cell_type": "code",
   "execution_count": 8,
   "metadata": {},
   "outputs": [
    {
     "data": {
      "text/plain": [
       "tensor([[ 1,  2,  3],\n",
       "        [10, 20, 30]])"
      ]
     },
     "execution_count": 8,
     "metadata": {},
     "output_type": "execute_result"
    }
   ],
   "source": [
    "t = torch.LongTensor([[1,2,3], [10,20,30]])\n",
    "\n",
    "# torch.Tensor((, *t))\n",
    "\n",
    "t, t.shape\n",
    "\n",
    "t.size(1)\n",
    "\n",
    "t.view(1, -1), t.view(1, -1).shape\n",
    "\n",
    "t.view(-1, *t.shape)\n",
    "t"
   ]
  },
  {
   "cell_type": "markdown",
   "metadata": {
    "heading_collapsed": true
   },
   "source": [
    "##### Класс CustomLinearLayer\n"
   ]
  },
  {
   "cell_type": "code",
   "execution_count": 9,
   "metadata": {
    "code_folding": [
     0
    ],
    "hidden": true
   },
   "outputs": [],
   "source": [
    "class CustomLinearLayer(nn.Module):\n",
    "    def __init__(self, size_in, size_out):\n",
    "        super().__init__()\n",
    "        self.size_in, self.size_out = size_in, size_out\n",
    "        \n",
    "        weights = torch.Tensor(size_out, size_in)\n",
    "        self.weights = nn.Parameter(weights) \n",
    "\n",
    "        bias = torch.Tensor(size_out)\n",
    "        self.bias = nn.Parameter(bias)\n",
    "\n",
    "        nn.init.uniform_(self.weights, -0.005, 0.005) \n",
    "        nn.init.uniform_(self.bias, -0.005, 0.005)  \n",
    "\n",
    "    def forward(self, x):\n",
    "        w_times_x = torch.mm(x, self.weights.t())\n",
    "        return torch.add(w_times_x, self.bias)  "
   ]
  },
  {
   "cell_type": "markdown",
   "metadata": {},
   "source": [
    "##### Класс Discriminator "
   ]
  },
  {
   "cell_type": "markdown",
   "metadata": {
    "heading_collapsed": true
   },
   "source": [
    "###### Old"
   ]
  },
  {
   "cell_type": "raw",
   "metadata": {
    "code_folding": [
     0
    ],
    "hidden": true
   },
   "source": [
    "class Discriminator(nn.Module):\n",
    "    def __init__(self):\n",
    "        super().__init__()\n",
    "\n",
    "        self.model = nn.Sequential(\n",
    "            CustomLinearLayer(int(np.prod(img_shape)), 512),\n",
    "            nn.LeakyReLU(0.2, inplace=True),\n",
    "            CustomLinearLayer(512, 256),\n",
    "            nn.LeakyReLU(0.2, inplace=True),\n",
    "            CustomLinearLayer(256, 1),\n",
    "            nn.Sigmoid(),\n",
    "        )\n",
    "  \n",
    "\n",
    "    def forward(self, img):\n",
    "        img_flat = img.view(img.size(0), -1)\n",
    "        validity = self.model(img_flat)\n",
    "\n",
    "        return validity"
   ]
  },
  {
   "cell_type": "markdown",
   "metadata": {},
   "source": [
    "##### New"
   ]
  },
  {
   "cell_type": "code",
   "execution_count": 275,
   "metadata": {
    "code_folding": []
   },
   "outputs": [],
   "source": [
    "class Discriminator(nn.Module):\n",
    "    def __init__(self):\n",
    "        super().__init__()\n",
    "        \n",
    "        self.conv_1 = nn.Conv2d(in_channels=1, out_channels=5, kernel_size=3)\n",
    "        self.relu_1 = nn.LeakyReLU()\n",
    "        self.conv_2 = nn.Conv2d(in_channels=5, out_channels=10, kernel_size=3)\n",
    "        self.relu_2 = nn.LeakyReLU()\n",
    "        self.linear_1 = nn.Linear(in_features=5760, out_features=1)\n",
    "        self.sigmoid = nn.Sigmoid()\n",
    "        \n",
    "    def forward(self, X):\n",
    "        print('discriminator_input_shape', X.shape)\n",
    "        X = self.conv_1(X)\n",
    "        X = self.relu_1(X)\n",
    "        X = self.conv_2(X)\n",
    "        X = self.relu_2(X)\n",
    "        print('DBG')\n",
    "        print('before flatten', X.shape)\n",
    "        print('agter flatten', torch.flatten(start_dim=1, input=X).shape)\n",
    "        X = X.view(X.shape[0], -1)\n",
    "        X = self.linear_1(X)\n",
    "        X = self.sigmoid(X)\n",
    "        return X\n",
    "    \n",
    "    def __call__(self, *args, **kwargs):\n",
    "        print('args', args[0].shape)\n",
    "        print('kwargs', kwargs)\n",
    "        return super().__call__(*args, **kwargs)"
   ]
  },
  {
   "cell_type": "markdown",
   "metadata": {
    "heading_collapsed": true
   },
   "source": [
    "###### Прочее"
   ]
  },
  {
   "cell_type": "code",
   "execution_count": 53,
   "metadata": {
    "hidden": true
   },
   "outputs": [
    {
     "name": "stdout",
     "output_type": "stream",
     "text": [
      "conv_1.weight torch.Size([256, 1, 3, 3])\n",
      "conv_1.bias torch.Size([256])\n"
     ]
    }
   ],
   "source": [
    "d = Discriminator()\n",
    "\n",
    "for name, param in d.named_parameters():\n",
    "    print(name, param.shape)"
   ]
  },
  {
   "cell_type": "raw",
   "metadata": {
    "hidden": true
   },
   "source": [
    "RuntimeError: Given groups=1, weight of size [256, 128, 3, 3], expected input[64, 1, 28, 28] to have 128 channels, but got 1 channels instead"
   ]
  },
  {
   "cell_type": "raw",
   "metadata": {
    "hidden": true
   },
   "source": [
    "gen_output_shape torch.Size([64, 1, 28, 28])\n",
    "0 torch.Size([64, 1, 28, 28])"
   ]
  },
  {
   "cell_type": "markdown",
   "metadata": {
    "heading_collapsed": true
   },
   "source": [
    "##### Загрузка датасета"
   ]
  },
  {
   "cell_type": "code",
   "execution_count": 12,
   "metadata": {
    "hidden": true
   },
   "outputs": [],
   "source": [
    "real_data = torch.utils.data.DataLoader(\n",
    "    datasets.MNIST(\n",
    "        \"../../data/mnist\",\n",
    "        train=True,\n",
    "        download=True,\n",
    "        transform=transforms.Compose(\n",
    "            [transforms.Resize(img_size), transforms.ToTensor(), transforms.Normalize([0.5], [0.5])]\n",
    "        ),\n",
    "    ),\n",
    "    batch_size=batch_size,\n",
    "    shuffle=True,\n",
    ")"
   ]
  },
  {
   "cell_type": "code",
   "execution_count": 13,
   "metadata": {
    "hidden": true,
    "scrolled": true
   },
   "outputs": [
    {
     "data": {
      "text/plain": [
       "<matplotlib.image.AxesImage at 0x21a8eecb6d8>"
      ]
     },
     "execution_count": 13,
     "metadata": {},
     "output_type": "execute_result"
    },
    {
     "data": {
      "image/png": "[encoded data removed]",
      "text/plain": [
       "<Figure size 864x288 with 3 Axes>"
      ]
     },
     "metadata": {
      "needs_background": "light"
     },
     "output_type": "display_data"
    }
   ],
   "source": [
    "dataiter = iter(real_data)\n",
    "images, labels = dataiter.next()\n",
    "images = images.numpy()\n",
    "\n",
    "img = np.squeeze(images[0])\n",
    "img1 = np.squeeze(images[1])\n",
    "img2 = np.squeeze(images[2])\n",
    "\n",
    "fig, (ax1, ax2, ax3) = plt.subplots(1, 3, figsize = (12,4))\n",
    "ax1.imshow(img, cmap='gray')\n",
    "ax2.imshow(img1, cmap='gray')\n",
    "ax3.imshow(img2, cmap='gray')"
   ]
  },
  {
   "cell_type": "markdown",
   "metadata": {},
   "source": [
    "##### Инициализация нейросетей"
   ]
  },
  {
   "cell_type": "code",
   "execution_count": 276,
   "metadata": {},
   "outputs": [],
   "source": [
    "generator = Generator().to(device)\n",
    "discriminator = Discriminator().to(device)\n",
    "\n",
    "\n",
    "optimizer_G = torch.optim.Adam(generator.parameters(), lr=lr, betas=(b1, b2))\n",
    "optimizer_D = torch.optim.Adam(discriminator.parameters(), lr=lr, betas=(b1, b2))\n",
    "\n",
    "adversarial_loss = torch.nn.BCELoss()"
   ]
  },
  {
   "cell_type": "code",
   "execution_count": 16,
   "metadata": {},
   "outputs": [],
   "source": [
    "d_loss_history = []\n",
    "g_loss_history = []"
   ]
  },
  {
   "cell_type": "markdown",
   "metadata": {},
   "source": [
    "##### Training loop"
   ]
  },
  {
   "cell_type": "code",
   "execution_count": 278,
   "metadata": {
    "scrolled": true
   },
   "outputs": [
    {
     "name": "stderr",
     "output_type": "stream",
     "text": [
      "Clipping input data to the valid range for imshow with RGB data ([0..1] for floats or [0..255] for integers).\n"
     ]
    },
    {
     "name": "stdout",
     "output_type": "stream",
     "text": [
      "[Epoch 2/200] [Batch 924/938] [D loss: 0.551622] [G loss: 0.762501]\n"
     ]
    },
    {
     "data": {
      "image/png": "[encoded data removed]",
      "text/plain": [
       "<Figure size 504x504 with 1 Axes>"
      ]
     },
     "metadata": {},
     "output_type": "display_data"
    },
    {
     "name": "stdout",
     "output_type": "stream",
     "text": [
      "gen_output_shape torch.Size([64, 1, 28, 28])\n",
      "0 torch.Size([64, 1, 28, 28])\n",
      "args torch.Size([64, 1, 28, 28])\n",
      "kwargs {}\n",
      "discriminator_input_shape torch.Size([64, 1, 28, 28])\n",
      "DBG\n",
      "before flatten torch.Size([64, 10, 24, 24])\n",
      "agter flatten torch.Size([64, 5760])\n",
      "args torch.Size([64, 1, 28, 28])\n",
      "kwargs {}\n",
      "discriminator_input_shape torch.Size([64, 1, 28, 28])\n",
      "DBG\n",
      "before flatten torch.Size([64, 10, 24, 24])\n",
      "agter flatten torch.Size([64, 5760])\n",
      "args torch.Size([64, 1, 28, 28])\n",
      "kwargs {}\n",
      "discriminator_input_shape torch.Size([64, 1, 28, 28])\n",
      "DBG\n",
      "before flatten torch.Size([64, 10, 24, 24])\n",
      "agter flatten torch.Size([64, 5760])\n",
      "gen_output_shape torch.Size([64, 1, 28, 28])\n",
      "0 torch.Size([64, 1, 28, 28])\n",
      "args torch.Size([64, 1, 28, 28])\n",
      "kwargs {}\n",
      "discriminator_input_shape torch.Size([64, 1, 28, 28])\n",
      "DBG\n",
      "before flatten torch.Size([64, 10, 24, 24])\n",
      "agter flatten torch.Size([64, 5760])\n",
      "args torch.Size([64, 1, 28, 28])\n",
      "kwargs {}\n",
      "discriminator_input_shape torch.Size([64, 1, 28, 28])\n",
      "DBG\n",
      "before flatten torch.Size([64, 10, 24, 24])\n",
      "agter flatten torch.Size([64, 5760])\n",
      "args torch.Size([64, 1, 28, 28])\n",
      "kwargs {}\n",
      "discriminator_input_shape torch.Size([64, 1, 28, 28])\n",
      "DBG\n",
      "before flatten torch.Size([64, 10, 24, 24])\n",
      "agter flatten torch.Size([64, 5760])\n",
      "gen_output_shape torch.Size([64, 1, 28, 28])\n",
      "0 torch.Size([64, 1, 28, 28])\n",
      "args torch.Size([64, 1, 28, 28])\n",
      "kwargs {}\n",
      "discriminator_input_shape torch.Size([64, 1, 28, 28])\n",
      "DBG\n",
      "before flatten torch.Size([64, 10, 24, 24])\n",
      "agter flatten torch.Size([64, 5760])\n",
      "args torch.Size([64, 1, 28, 28])\n",
      "kwargs {}\n",
      "discriminator_input_shape torch.Size([64, 1, 28, 28])\n",
      "DBG\n",
      "before flatten torch.Size([64, 10, 24, 24])\n",
      "agter flatten torch.Size([64, 5760])\n",
      "args torch.Size([64, 1, 28, 28])\n",
      "kwargs {}\n",
      "discriminator_input_shape torch.Size([64, 1, 28, 28])\n",
      "DBG\n",
      "before flatten torch.Size([64, 10, 24, 24])\n",
      "agter flatten torch.Size([64, 5760])\n",
      "gen_output_shape torch.Size([64, 1, 28, 28])\n",
      "0 torch.Size([64, 1, 28, 28])\n",
      "args torch.Size([64, 1, 28, 28])\n",
      "kwargs {}\n",
      "discriminator_input_shape torch.Size([64, 1, 28, 28])\n",
      "DBG\n",
      "before flatten torch.Size([64, 10, 24, 24])\n",
      "agter flatten torch.Size([64, 5760])\n",
      "args torch.Size([64, 1, 28, 28])\n",
      "kwargs {}\n",
      "discriminator_input_shape torch.Size([64, 1, 28, 28])\n",
      "DBG\n",
      "before flatten torch.Size([64, 10, 24, 24])\n",
      "agter flatten torch.Size([64, 5760])\n",
      "args torch.Size([64, 1, 28, 28])\n",
      "kwargs {}\n",
      "discriminator_input_shape torch.Size([64, 1, 28, 28])\n",
      "DBG\n",
      "before flatten torch.Size([64, 10, 24, 24])\n",
      "agter flatten torch.Size([64, 5760])\n",
      "gen_output_shape torch.Size([64, 1, 28, 28])\n",
      "0 torch.Size([64, 1, 28, 28])\n",
      "args torch.Size([64, 1, 28, 28])\n",
      "kwargs {}\n",
      "discriminator_input_shape torch.Size([64, 1, 28, 28])\n",
      "DBG\n",
      "before flatten torch.Size([64, 10, 24, 24])\n",
      "agter flatten torch.Size([64, 5760])\n",
      "args torch.Size([64, 1, 28, 28])\n",
      "kwargs {}\n",
      "discriminator_input_shape torch.Size([64, 1, 28, 28])\n",
      "DBG\n",
      "before flatten torch.Size([64, 10, 24, 24])\n",
      "agter flatten torch.Size([64, 5760])\n",
      "args torch.Size([64, 1, 28, 28])\n",
      "kwargs {}\n",
      "discriminator_input_shape torch.Size([64, 1, 28, 28])\n",
      "DBG\n",
      "before flatten torch.Size([64, 10, 24, 24])\n",
      "agter flatten torch.Size([64, 5760])\n",
      "gen_output_shape torch.Size([64, 1, 28, 28])\n",
      "0 torch.Size([64, 1, 28, 28])\n",
      "args torch.Size([64, 1, 28, 28])\n",
      "kwargs {}\n",
      "discriminator_input_shape torch.Size([64, 1, 28, 28])\n",
      "DBG\n",
      "before flatten torch.Size([64, 10, 24, 24])\n",
      "agter flatten torch.Size([64, 5760])\n",
      "args torch.Size([64, 1, 28, 28])\n",
      "kwargs {}\n",
      "discriminator_input_shape torch.Size([64, 1, 28, 28])\n",
      "DBG\n",
      "before flatten torch.Size([64, 10, 24, 24])\n",
      "agter flatten torch.Size([64, 5760])\n",
      "args torch.Size([64, 1, 28, 28])\n",
      "kwargs {}\n",
      "discriminator_input_shape torch.Size([64, 1, 28, 28])\n",
      "DBG\n",
      "before flatten torch.Size([64, 10, 24, 24])\n",
      "agter flatten torch.Size([64, 5760])\n",
      "gen_output_shape torch.Size([64, 1, 28, 28])\n",
      "0 torch.Size([64, 1, 28, 28])\n",
      "args torch.Size([64, 1, 28, 28])\n",
      "kwargs {}\n",
      "discriminator_input_shape torch.Size([64, 1, 28, 28])\n",
      "DBG\n",
      "before flatten torch.Size([64, 10, 24, 24])\n",
      "agter flatten torch.Size([64, 5760])\n",
      "args torch.Size([64, 1, 28, 28])\n",
      "kwargs {}\n",
      "discriminator_input_shape torch.Size([64, 1, 28, 28])\n",
      "DBG\n",
      "before flatten torch.Size([64, 10, 24, 24])\n",
      "agter flatten torch.Size([64, 5760])\n",
      "args torch.Size([64, 1, 28, 28])\n",
      "kwargs {}\n",
      "discriminator_input_shape torch.Size([64, 1, 28, 28])\n",
      "DBG\n",
      "before flatten torch.Size([64, 10, 24, 24])\n",
      "agter flatten torch.Size([64, 5760])\n",
      "gen_output_shape torch.Size([64, 1, 28, 28])\n",
      "0 torch.Size([64, 1, 28, 28])\n",
      "args torch.Size([64, 1, 28, 28])\n",
      "kwargs {}\n",
      "discriminator_input_shape torch.Size([64, 1, 28, 28])\n",
      "DBG\n",
      "before flatten torch.Size([64, 10, 24, 24])\n",
      "agter flatten torch.Size([64, 5760])\n",
      "args torch.Size([64, 1, 28, 28])\n",
      "kwargs {}\n",
      "discriminator_input_shape torch.Size([64, 1, 28, 28])\n",
      "DBG\n",
      "before flatten torch.Size([64, 10, 24, 24])\n",
      "agter flatten torch.Size([64, 5760])\n",
      "args torch.Size([64, 1, 28, 28])\n",
      "kwargs {}\n",
      "discriminator_input_shape torch.Size([64, 1, 28, 28])\n",
      "DBG\n",
      "before flatten torch.Size([64, 10, 24, 24])\n",
      "agter flatten torch.Size([64, 5760])\n",
      "gen_output_shape torch.Size([64, 1, 28, 28])\n",
      "0 torch.Size([64, 1, 28, 28])\n",
      "args torch.Size([64, 1, 28, 28])\n",
      "kwargs {}\n",
      "discriminator_input_shape torch.Size([64, 1, 28, 28])\n",
      "DBG\n",
      "before flatten torch.Size([64, 10, 24, 24])\n",
      "agter flatten torch.Size([64, 5760])\n",
      "args torch.Size([64, 1, 28, 28])\n",
      "kwargs {}\n",
      "discriminator_input_shape torch.Size([64, 1, 28, 28])\n",
      "DBG\n",
      "before flatten torch.Size([64, 10, 24, 24])\n",
      "agter flatten torch.Size([64, 5760])\n",
      "args torch.Size([64, 1, 28, 28])\n",
      "kwargs {}\n",
      "discriminator_input_shape torch.Size([64, 1, 28, 28])\n",
      "DBG\n",
      "before flatten torch.Size([64, 10, 24, 24])\n",
      "agter flatten torch.Size([64, 5760])\n",
      "gen_output_shape torch.Size([64, 1, 28, 28])\n",
      "0 torch.Size([64, 1, 28, 28])\n",
      "args torch.Size([64, 1, 28, 28])\n",
      "kwargs {}\n",
      "discriminator_input_shape torch.Size([64, 1, 28, 28])\n",
      "DBG\n",
      "before flatten torch.Size([64, 10, 24, 24])\n",
      "agter flatten torch.Size([64, 5760])\n",
      "args torch.Size([64, 1, 28, 28])\n",
      "kwargs {}\n",
      "discriminator_input_shape torch.Size([64, 1, 28, 28])\n",
      "DBG\n",
      "before flatten torch.Size([64, 10, 24, 24])\n",
      "agter flatten torch.Size([64, 5760])\n",
      "args torch.Size([64, 1, 28, 28])\n",
      "kwargs {}\n",
      "discriminator_input_shape torch.Size([64, 1, 28, 28])\n",
      "DBG\n",
      "before flatten torch.Size([64, 10, 24, 24])\n",
      "agter flatten torch.Size([64, 5760])\n"
     ]
    },
    {
     "ename": "KeyboardInterrupt",
     "evalue": "",
     "output_type": "error",
     "traceback": [
      "\u001b[1;31m---------------------------------------------------------------------------\u001b[0m",
      "\u001b[1;31mKeyboardInterrupt\u001b[0m                         Traceback (most recent call last)",
      "\u001b[1;32m<ipython-input-278-34fc44f8b492>\u001b[0m in \u001b[0;36m<module>\u001b[1;34m\u001b[0m\n\u001b[0;32m     24\u001b[0m         \u001b[0mz\u001b[0m \u001b[1;33m=\u001b[0m \u001b[0mVariable\u001b[0m\u001b[1;33m(\u001b[0m\u001b[0mtorch\u001b[0m\u001b[1;33m.\u001b[0m\u001b[0mFloatTensor\u001b[0m\u001b[1;33m(\u001b[0m\u001b[0mnp\u001b[0m\u001b[1;33m.\u001b[0m\u001b[0mrandom\u001b[0m\u001b[1;33m.\u001b[0m\u001b[0mnormal\u001b[0m\u001b[1;33m(\u001b[0m\u001b[1;36m0\u001b[0m\u001b[1;33m,\u001b[0m \u001b[1;36m1\u001b[0m\u001b[1;33m,\u001b[0m \u001b[1;33m(\u001b[0m\u001b[0mbatch_size\u001b[0m\u001b[1;33m,\u001b[0m \u001b[0mlatent_dim\u001b[0m\u001b[1;33m)\u001b[0m\u001b[1;33m)\u001b[0m\u001b[1;33m)\u001b[0m\u001b[1;33m)\u001b[0m\u001b[1;33m.\u001b[0m\u001b[0mto\u001b[0m\u001b[1;33m(\u001b[0m\u001b[0mdevice\u001b[0m\u001b[1;33m)\u001b[0m\u001b[1;33m\u001b[0m\u001b[1;33m\u001b[0m\u001b[0m\n\u001b[0;32m     25\u001b[0m \u001b[1;33m\u001b[0m\u001b[0m\n\u001b[1;32m---> 26\u001b[1;33m         \u001b[0mgen_imgs\u001b[0m \u001b[1;33m=\u001b[0m \u001b[0mgenerator\u001b[0m\u001b[1;33m(\u001b[0m\u001b[0mz\u001b[0m\u001b[1;33m)\u001b[0m\u001b[1;33m\u001b[0m\u001b[1;33m\u001b[0m\u001b[0m\n\u001b[0m\u001b[0;32m     27\u001b[0m \u001b[1;33m\u001b[0m\u001b[0m\n\u001b[0;32m     28\u001b[0m         \u001b[0mprint\u001b[0m\u001b[1;33m(\u001b[0m\u001b[1;36m0\u001b[0m\u001b[1;33m,\u001b[0m \u001b[0mgen_imgs\u001b[0m\u001b[1;33m.\u001b[0m\u001b[0mshape\u001b[0m\u001b[1;33m)\u001b[0m\u001b[1;33m\u001b[0m\u001b[1;33m\u001b[0m\u001b[0m\n",
      "\u001b[1;32m~\\Anaconda3\\lib\\site-packages\\torch\\nn\\modules\\module.py\u001b[0m in \u001b[0;36m_call_impl\u001b[1;34m(self, *input, **kwargs)\u001b[0m\n\u001b[0;32m    720\u001b[0m             \u001b[0mresult\u001b[0m \u001b[1;33m=\u001b[0m \u001b[0mself\u001b[0m\u001b[1;33m.\u001b[0m\u001b[0m_slow_forward\u001b[0m\u001b[1;33m(\u001b[0m\u001b[1;33m*\u001b[0m\u001b[0minput\u001b[0m\u001b[1;33m,\u001b[0m \u001b[1;33m**\u001b[0m\u001b[0mkwargs\u001b[0m\u001b[1;33m)\u001b[0m\u001b[1;33m\u001b[0m\u001b[1;33m\u001b[0m\u001b[0m\n\u001b[0;32m    721\u001b[0m         \u001b[1;32melse\u001b[0m\u001b[1;33m:\u001b[0m\u001b[1;33m\u001b[0m\u001b[1;33m\u001b[0m\u001b[0m\n\u001b[1;32m--> 722\u001b[1;33m             \u001b[0mresult\u001b[0m \u001b[1;33m=\u001b[0m \u001b[0mself\u001b[0m\u001b[1;33m.\u001b[0m\u001b[0mforward\u001b[0m\u001b[1;33m(\u001b[0m\u001b[1;33m*\u001b[0m\u001b[0minput\u001b[0m\u001b[1;33m,\u001b[0m \u001b[1;33m**\u001b[0m\u001b[0mkwargs\u001b[0m\u001b[1;33m)\u001b[0m\u001b[1;33m\u001b[0m\u001b[1;33m\u001b[0m\u001b[0m\n\u001b[0m\u001b[0;32m    723\u001b[0m         for hook in itertools.chain(\n\u001b[0;32m    724\u001b[0m                 \u001b[0m_global_forward_hooks\u001b[0m\u001b[1;33m.\u001b[0m\u001b[0mvalues\u001b[0m\u001b[1;33m(\u001b[0m\u001b[1;33m)\u001b[0m\u001b[1;33m,\u001b[0m\u001b[1;33m\u001b[0m\u001b[1;33m\u001b[0m\u001b[0m\n",
      "\u001b[1;32m<ipython-input-19-635955a60cf8>\u001b[0m in \u001b[0;36mforward\u001b[1;34m(self, z)\u001b[0m\n\u001b[0;32m     24\u001b[0m \u001b[1;33m\u001b[0m\u001b[0m\n\u001b[0;32m     25\u001b[0m     \u001b[1;32mdef\u001b[0m \u001b[0mforward\u001b[0m\u001b[1;33m(\u001b[0m\u001b[0mself\u001b[0m\u001b[1;33m,\u001b[0m \u001b[0mz\u001b[0m\u001b[1;33m)\u001b[0m\u001b[1;33m:\u001b[0m\u001b[1;33m\u001b[0m\u001b[1;33m\u001b[0m\u001b[0m\n\u001b[1;32m---> 26\u001b[1;33m         \u001b[0mimg\u001b[0m \u001b[1;33m=\u001b[0m \u001b[0mself\u001b[0m\u001b[1;33m.\u001b[0m\u001b[0mmodel\u001b[0m\u001b[1;33m(\u001b[0m\u001b[0mz\u001b[0m\u001b[1;33m)\u001b[0m\u001b[1;33m\u001b[0m\u001b[1;33m\u001b[0m\u001b[0m\n\u001b[0m\u001b[0;32m     27\u001b[0m         \u001b[0mimg\u001b[0m \u001b[1;33m=\u001b[0m \u001b[0mimg\u001b[0m\u001b[1;33m.\u001b[0m\u001b[0mview\u001b[0m\u001b[1;33m(\u001b[0m\u001b[0mimg\u001b[0m\u001b[1;33m.\u001b[0m\u001b[0msize\u001b[0m\u001b[1;33m(\u001b[0m\u001b[1;36m0\u001b[0m\u001b[1;33m)\u001b[0m\u001b[1;33m,\u001b[0m \u001b[1;33m*\u001b[0m\u001b[0mimg_shape\u001b[0m\u001b[1;33m)\u001b[0m\u001b[1;33m\u001b[0m\u001b[1;33m\u001b[0m\u001b[0m\n\u001b[0;32m     28\u001b[0m         \u001b[0mprint\u001b[0m\u001b[1;33m(\u001b[0m\u001b[1;34m'gen_output_shape'\u001b[0m\u001b[1;33m,\u001b[0m \u001b[0mimg\u001b[0m\u001b[1;33m.\u001b[0m\u001b[0mshape\u001b[0m\u001b[1;33m)\u001b[0m\u001b[1;33m\u001b[0m\u001b[1;33m\u001b[0m\u001b[0m\n",
      "\u001b[1;32m~\\Anaconda3\\lib\\site-packages\\torch\\nn\\modules\\module.py\u001b[0m in \u001b[0;36m_call_impl\u001b[1;34m(self, *input, **kwargs)\u001b[0m\n\u001b[0;32m    720\u001b[0m             \u001b[0mresult\u001b[0m \u001b[1;33m=\u001b[0m \u001b[0mself\u001b[0m\u001b[1;33m.\u001b[0m\u001b[0m_slow_forward\u001b[0m\u001b[1;33m(\u001b[0m\u001b[1;33m*\u001b[0m\u001b[0minput\u001b[0m\u001b[1;33m,\u001b[0m \u001b[1;33m**\u001b[0m\u001b[0mkwargs\u001b[0m\u001b[1;33m)\u001b[0m\u001b[1;33m\u001b[0m\u001b[1;33m\u001b[0m\u001b[0m\n\u001b[0;32m    721\u001b[0m         \u001b[1;32melse\u001b[0m\u001b[1;33m:\u001b[0m\u001b[1;33m\u001b[0m\u001b[1;33m\u001b[0m\u001b[0m\n\u001b[1;32m--> 722\u001b[1;33m             \u001b[0mresult\u001b[0m \u001b[1;33m=\u001b[0m \u001b[0mself\u001b[0m\u001b[1;33m.\u001b[0m\u001b[0mforward\u001b[0m\u001b[1;33m(\u001b[0m\u001b[1;33m*\u001b[0m\u001b[0minput\u001b[0m\u001b[1;33m,\u001b[0m \u001b[1;33m**\u001b[0m\u001b[0mkwargs\u001b[0m\u001b[1;33m)\u001b[0m\u001b[1;33m\u001b[0m\u001b[1;33m\u001b[0m\u001b[0m\n\u001b[0m\u001b[0;32m    723\u001b[0m         for hook in itertools.chain(\n\u001b[0;32m    724\u001b[0m                 \u001b[0m_global_forward_hooks\u001b[0m\u001b[1;33m.\u001b[0m\u001b[0mvalues\u001b[0m\u001b[1;33m(\u001b[0m\u001b[1;33m)\u001b[0m\u001b[1;33m,\u001b[0m\u001b[1;33m\u001b[0m\u001b[1;33m\u001b[0m\u001b[0m\n",
      "\u001b[1;32m~\\Anaconda3\\lib\\site-packages\\torch\\nn\\modules\\container.py\u001b[0m in \u001b[0;36mforward\u001b[1;34m(self, input)\u001b[0m\n\u001b[0;32m    115\u001b[0m     \u001b[1;32mdef\u001b[0m \u001b[0mforward\u001b[0m\u001b[1;33m(\u001b[0m\u001b[0mself\u001b[0m\u001b[1;33m,\u001b[0m \u001b[0minput\u001b[0m\u001b[1;33m)\u001b[0m\u001b[1;33m:\u001b[0m\u001b[1;33m\u001b[0m\u001b[1;33m\u001b[0m\u001b[0m\n\u001b[0;32m    116\u001b[0m         \u001b[1;32mfor\u001b[0m \u001b[0mmodule\u001b[0m \u001b[1;32min\u001b[0m \u001b[0mself\u001b[0m\u001b[1;33m:\u001b[0m\u001b[1;33m\u001b[0m\u001b[1;33m\u001b[0m\u001b[0m\n\u001b[1;32m--> 117\u001b[1;33m             \u001b[0minput\u001b[0m \u001b[1;33m=\u001b[0m \u001b[0mmodule\u001b[0m\u001b[1;33m(\u001b[0m\u001b[0minput\u001b[0m\u001b[1;33m)\u001b[0m\u001b[1;33m\u001b[0m\u001b[1;33m\u001b[0m\u001b[0m\n\u001b[0m\u001b[0;32m    118\u001b[0m         \u001b[1;32mreturn\u001b[0m \u001b[0minput\u001b[0m\u001b[1;33m\u001b[0m\u001b[1;33m\u001b[0m\u001b[0m\n\u001b[0;32m    119\u001b[0m \u001b[1;33m\u001b[0m\u001b[0m\n",
      "\u001b[1;32m~\\Anaconda3\\lib\\site-packages\\torch\\nn\\modules\\module.py\u001b[0m in \u001b[0;36m_call_impl\u001b[1;34m(self, *input, **kwargs)\u001b[0m\n\u001b[0;32m    720\u001b[0m             \u001b[0mresult\u001b[0m \u001b[1;33m=\u001b[0m \u001b[0mself\u001b[0m\u001b[1;33m.\u001b[0m\u001b[0m_slow_forward\u001b[0m\u001b[1;33m(\u001b[0m\u001b[1;33m*\u001b[0m\u001b[0minput\u001b[0m\u001b[1;33m,\u001b[0m \u001b[1;33m**\u001b[0m\u001b[0mkwargs\u001b[0m\u001b[1;33m)\u001b[0m\u001b[1;33m\u001b[0m\u001b[1;33m\u001b[0m\u001b[0m\n\u001b[0;32m    721\u001b[0m         \u001b[1;32melse\u001b[0m\u001b[1;33m:\u001b[0m\u001b[1;33m\u001b[0m\u001b[1;33m\u001b[0m\u001b[0m\n\u001b[1;32m--> 722\u001b[1;33m             \u001b[0mresult\u001b[0m \u001b[1;33m=\u001b[0m \u001b[0mself\u001b[0m\u001b[1;33m.\u001b[0m\u001b[0mforward\u001b[0m\u001b[1;33m(\u001b[0m\u001b[1;33m*\u001b[0m\u001b[0minput\u001b[0m\u001b[1;33m,\u001b[0m \u001b[1;33m**\u001b[0m\u001b[0mkwargs\u001b[0m\u001b[1;33m)\u001b[0m\u001b[1;33m\u001b[0m\u001b[1;33m\u001b[0m\u001b[0m\n\u001b[0m\u001b[0;32m    723\u001b[0m         for hook in itertools.chain(\n\u001b[0;32m    724\u001b[0m                 \u001b[0m_global_forward_hooks\u001b[0m\u001b[1;33m.\u001b[0m\u001b[0mvalues\u001b[0m\u001b[1;33m(\u001b[0m\u001b[1;33m)\u001b[0m\u001b[1;33m,\u001b[0m\u001b[1;33m\u001b[0m\u001b[1;33m\u001b[0m\u001b[0m\n",
      "\u001b[1;32m~\\Anaconda3\\lib\\site-packages\\torch\\nn\\modules\\batchnorm.py\u001b[0m in \u001b[0;36mforward\u001b[1;34m(self, input)\u001b[0m\n\u001b[0;32m    134\u001b[0m             \u001b[0mself\u001b[0m\u001b[1;33m.\u001b[0m\u001b[0mrunning_mean\u001b[0m \u001b[1;32mif\u001b[0m \u001b[1;32mnot\u001b[0m \u001b[0mself\u001b[0m\u001b[1;33m.\u001b[0m\u001b[0mtraining\u001b[0m \u001b[1;32mor\u001b[0m \u001b[0mself\u001b[0m\u001b[1;33m.\u001b[0m\u001b[0mtrack_running_stats\u001b[0m \u001b[1;32melse\u001b[0m \u001b[1;32mNone\u001b[0m\u001b[1;33m,\u001b[0m\u001b[1;33m\u001b[0m\u001b[1;33m\u001b[0m\u001b[0m\n\u001b[0;32m    135\u001b[0m             \u001b[0mself\u001b[0m\u001b[1;33m.\u001b[0m\u001b[0mrunning_var\u001b[0m \u001b[1;32mif\u001b[0m \u001b[1;32mnot\u001b[0m \u001b[0mself\u001b[0m\u001b[1;33m.\u001b[0m\u001b[0mtraining\u001b[0m \u001b[1;32mor\u001b[0m \u001b[0mself\u001b[0m\u001b[1;33m.\u001b[0m\u001b[0mtrack_running_stats\u001b[0m \u001b[1;32melse\u001b[0m \u001b[1;32mNone\u001b[0m\u001b[1;33m,\u001b[0m\u001b[1;33m\u001b[0m\u001b[1;33m\u001b[0m\u001b[0m\n\u001b[1;32m--> 136\u001b[1;33m             self.weight, self.bias, bn_training, exponential_average_factor, self.eps)\n\u001b[0m\u001b[0;32m    137\u001b[0m \u001b[1;33m\u001b[0m\u001b[0m\n\u001b[0;32m    138\u001b[0m \u001b[1;33m\u001b[0m\u001b[0m\n",
      "\u001b[1;32m~\\Anaconda3\\lib\\site-packages\\torch\\nn\\functional.py\u001b[0m in \u001b[0;36mbatch_norm\u001b[1;34m(input, running_mean, running_var, weight, bias, training, momentum, eps)\u001b[0m\n\u001b[0;32m   2014\u001b[0m     return torch.batch_norm(\n\u001b[0;32m   2015\u001b[0m         \u001b[0minput\u001b[0m\u001b[1;33m,\u001b[0m \u001b[0mweight\u001b[0m\u001b[1;33m,\u001b[0m \u001b[0mbias\u001b[0m\u001b[1;33m,\u001b[0m \u001b[0mrunning_mean\u001b[0m\u001b[1;33m,\u001b[0m \u001b[0mrunning_var\u001b[0m\u001b[1;33m,\u001b[0m\u001b[1;33m\u001b[0m\u001b[1;33m\u001b[0m\u001b[0m\n\u001b[1;32m-> 2016\u001b[1;33m         \u001b[0mtraining\u001b[0m\u001b[1;33m,\u001b[0m \u001b[0mmomentum\u001b[0m\u001b[1;33m,\u001b[0m \u001b[0meps\u001b[0m\u001b[1;33m,\u001b[0m \u001b[0mtorch\u001b[0m\u001b[1;33m.\u001b[0m\u001b[0mbackends\u001b[0m\u001b[1;33m.\u001b[0m\u001b[0mcudnn\u001b[0m\u001b[1;33m.\u001b[0m\u001b[0menabled\u001b[0m\u001b[1;33m\u001b[0m\u001b[1;33m\u001b[0m\u001b[0m\n\u001b[0m\u001b[0;32m   2017\u001b[0m     )\n\u001b[0;32m   2018\u001b[0m \u001b[1;33m\u001b[0m\u001b[0m\n",
      "\u001b[1;31mKeyboardInterrupt\u001b[0m: "
     ]
    },
    {
     "data": {
      "text/plain": [
       "<Figure size 432x288 with 0 Axes>"
      ]
     },
     "metadata": {},
     "output_type": "display_data"
    },
    {
     "data": {
      "text/plain": [
       "<Figure size 504x504 with 0 Axes>"
      ]
     },
     "metadata": {},
     "output_type": "display_data"
    },
    {
     "data": {
      "text/plain": [
       "<Figure size 504x504 with 0 Axes>"
      ]
     },
     "metadata": {},
     "output_type": "display_data"
    },
    {
     "data": {
      "text/plain": [
       "<Figure size 504x504 with 0 Axes>"
      ]
     },
     "metadata": {},
     "output_type": "display_data"
    },
    {
     "data": {
      "text/plain": [
       "<Figure size 504x504 with 0 Axes>"
      ]
     },
     "metadata": {},
     "output_type": "display_data"
    },
    {
     "data": {
      "text/plain": [
       "<Figure size 504x504 with 0 Axes>"
      ]
     },
     "metadata": {},
     "output_type": "display_data"
    },
    {
     "data": {
      "text/plain": [
       "<Figure size 504x504 with 0 Axes>"
      ]
     },
     "metadata": {},
     "output_type": "display_data"
    },
    {
     "data": {
      "text/plain": [
       "<Figure size 504x504 with 0 Axes>"
      ]
     },
     "metadata": {},
     "output_type": "display_data"
    },
    {
     "data": {
      "text/plain": [
       "<Figure size 504x504 with 0 Axes>"
      ]
     },
     "metadata": {},
     "output_type": "display_data"
    },
    {
     "data": {
      "text/plain": [
       "<Figure size 504x504 with 0 Axes>"
      ]
     },
     "metadata": {},
     "output_type": "display_data"
    },
    {
     "data": {
      "text/plain": [
       "<Figure size 504x504 with 0 Axes>"
      ]
     },
     "metadata": {},
     "output_type": "display_data"
    },
    {
     "data": {
      "text/plain": [
       "<Figure size 504x504 with 0 Axes>"
      ]
     },
     "metadata": {},
     "output_type": "display_data"
    },
    {
     "data": {
      "text/plain": [
       "<Figure size 504x504 with 0 Axes>"
      ]
     },
     "metadata": {},
     "output_type": "display_data"
    },
    {
     "data": {
      "text/plain": [
       "<Figure size 504x504 with 0 Axes>"
      ]
     },
     "metadata": {},
     "output_type": "display_data"
    },
    {
     "data": {
      "text/plain": [
       "<Figure size 504x504 with 0 Axes>"
      ]
     },
     "metadata": {},
     "output_type": "display_data"
    },
    {
     "data": {
      "text/plain": [
       "<Figure size 504x504 with 0 Axes>"
      ]
     },
     "metadata": {},
     "output_type": "display_data"
    },
    {
     "data": {
      "text/plain": [
       "<Figure size 504x504 with 0 Axes>"
      ]
     },
     "metadata": {},
     "output_type": "display_data"
    },
    {
     "data": {
      "text/plain": [
       "<Figure size 504x504 with 0 Axes>"
      ]
     },
     "metadata": {},
     "output_type": "display_data"
    },
    {
     "data": {
      "text/plain": [
       "<Figure size 504x504 with 0 Axes>"
      ]
     },
     "metadata": {},
     "output_type": "display_data"
    },
    {
     "data": {
      "text/plain": [
       "<Figure size 504x504 with 0 Axes>"
      ]
     },
     "metadata": {},
     "output_type": "display_data"
    },
    {
     "data": {
      "text/plain": [
       "<Figure size 504x504 with 0 Axes>"
      ]
     },
     "metadata": {},
     "output_type": "display_data"
    },
    {
     "data": {
      "text/plain": [
       "<Figure size 504x504 with 0 Axes>"
      ]
     },
     "metadata": {},
     "output_type": "display_data"
    },
    {
     "data": {
      "text/plain": [
       "<Figure size 504x504 with 0 Axes>"
      ]
     },
     "metadata": {},
     "output_type": "display_data"
    },
    {
     "data": {
      "text/plain": [
       "<Figure size 504x504 with 0 Axes>"
      ]
     },
     "metadata": {},
     "output_type": "display_data"
    },
    {
     "data": {
      "text/plain": [
       "<Figure size 504x504 with 0 Axes>"
      ]
     },
     "metadata": {},
     "output_type": "display_data"
    },
    {
     "data": {
      "text/plain": [
       "<Figure size 504x504 with 0 Axes>"
      ]
     },
     "metadata": {},
     "output_type": "display_data"
    },
    {
     "data": {
      "text/plain": [
       "<Figure size 504x504 with 0 Axes>"
      ]
     },
     "metadata": {},
     "output_type": "display_data"
    },
    {
     "data": {
      "text/plain": [
       "<Figure size 504x504 with 0 Axes>"
      ]
     },
     "metadata": {},
     "output_type": "display_data"
    },
    {
     "data": {
      "text/plain": [
       "<Figure size 504x504 with 0 Axes>"
      ]
     },
     "metadata": {},
     "output_type": "display_data"
    },
    {
     "data": {
      "text/plain": [
       "<Figure size 504x504 with 0 Axes>"
      ]
     },
     "metadata": {},
     "output_type": "display_data"
    },
    {
     "data": {
      "text/plain": [
       "<Figure size 504x504 with 0 Axes>"
      ]
     },
     "metadata": {},
     "output_type": "display_data"
    },
    {
     "data": {
      "text/plain": [
       "<Figure size 504x504 with 0 Axes>"
      ]
     },
     "metadata": {},
     "output_type": "display_data"
    },
    {
     "data": {
      "text/plain": [
       "<Figure size 504x504 with 0 Axes>"
      ]
     },
     "metadata": {},
     "output_type": "display_data"
    },
    {
     "data": {
      "text/plain": [
       "<Figure size 504x504 with 0 Axes>"
      ]
     },
     "metadata": {},
     "output_type": "display_data"
    },
    {
     "data": {
      "text/plain": [
       "<Figure size 504x504 with 0 Axes>"
      ]
     },
     "metadata": {},
     "output_type": "display_data"
    },
    {
     "data": {
      "text/plain": [
       "<Figure size 504x504 with 0 Axes>"
      ]
     },
     "metadata": {},
     "output_type": "display_data"
    },
    {
     "data": {
      "text/plain": [
       "<Figure size 504x504 with 0 Axes>"
      ]
     },
     "metadata": {},
     "output_type": "display_data"
    },
    {
     "data": {
      "text/plain": [
       "<Figure size 504x504 with 0 Axes>"
      ]
     },
     "metadata": {},
     "output_type": "display_data"
    },
    {
     "data": {
      "text/plain": [
       "<Figure size 504x504 with 0 Axes>"
      ]
     },
     "metadata": {},
     "output_type": "display_data"
    },
    {
     "data": {
      "text/plain": [
       "<Figure size 504x504 with 0 Axes>"
      ]
     },
     "metadata": {},
     "output_type": "display_data"
    },
    {
     "data": {
      "text/plain": [
       "<Figure size 504x504 with 0 Axes>"
      ]
     },
     "metadata": {},
     "output_type": "display_data"
    },
    {
     "data": {
      "text/plain": [
       "<Figure size 504x504 with 0 Axes>"
      ]
     },
     "metadata": {},
     "output_type": "display_data"
    },
    {
     "data": {
      "text/plain": [
       "<Figure size 504x504 with 0 Axes>"
      ]
     },
     "metadata": {},
     "output_type": "display_data"
    },
    {
     "data": {
      "text/plain": [
       "<Figure size 504x504 with 0 Axes>"
      ]
     },
     "metadata": {},
     "output_type": "display_data"
    },
    {
     "data": {
      "text/plain": [
       "<Figure size 504x504 with 0 Axes>"
      ]
     },
     "metadata": {},
     "output_type": "display_data"
    },
    {
     "data": {
      "text/plain": [
       "<Figure size 504x504 with 0 Axes>"
      ]
     },
     "metadata": {},
     "output_type": "display_data"
    },
    {
     "data": {
      "text/plain": [
       "<Figure size 504x504 with 0 Axes>"
      ]
     },
     "metadata": {},
     "output_type": "display_data"
    },
    {
     "data": {
      "text/plain": [
       "<Figure size 504x504 with 0 Axes>"
      ]
     },
     "metadata": {},
     "output_type": "display_data"
    },
    {
     "data": {
      "text/plain": [
       "<Figure size 504x504 with 0 Axes>"
      ]
     },
     "metadata": {},
     "output_type": "display_data"
    },
    {
     "data": {
      "text/plain": [
       "<Figure size 504x504 with 0 Axes>"
      ]
     },
     "metadata": {},
     "output_type": "display_data"
    },
    {
     "data": {
      "text/plain": [
       "<Figure size 504x504 with 0 Axes>"
      ]
     },
     "metadata": {},
     "output_type": "display_data"
    },
    {
     "data": {
      "text/plain": [
       "<Figure size 504x504 with 0 Axes>"
      ]
     },
     "metadata": {},
     "output_type": "display_data"
    },
    {
     "data": {
      "text/plain": [
       "<Figure size 504x504 with 0 Axes>"
      ]
     },
     "metadata": {},
     "output_type": "display_data"
    },
    {
     "data": {
      "text/plain": [
       "<Figure size 504x504 with 0 Axes>"
      ]
     },
     "metadata": {},
     "output_type": "display_data"
    },
    {
     "data": {
      "text/plain": [
       "<Figure size 504x504 with 0 Axes>"
      ]
     },
     "metadata": {},
     "output_type": "display_data"
    },
    {
     "data": {
      "text/plain": [
       "<Figure size 504x504 with 0 Axes>"
      ]
     },
     "metadata": {},
     "output_type": "display_data"
    },
    {
     "data": {
      "text/plain": [
       "<Figure size 504x504 with 0 Axes>"
      ]
     },
     "metadata": {},
     "output_type": "display_data"
    },
    {
     "data": {
      "text/plain": [
       "<Figure size 504x504 with 0 Axes>"
      ]
     },
     "metadata": {},
     "output_type": "display_data"
    },
    {
     "data": {
      "text/plain": [
       "<Figure size 504x504 with 0 Axes>"
      ]
     },
     "metadata": {},
     "output_type": "display_data"
    },
    {
     "data": {
      "text/plain": [
       "<Figure size 504x504 with 0 Axes>"
      ]
     },
     "metadata": {},
     "output_type": "display_data"
    },
    {
     "data": {
      "text/plain": [
       "<Figure size 504x504 with 0 Axes>"
      ]
     },
     "metadata": {},
     "output_type": "display_data"
    },
    {
     "data": {
      "text/plain": [
       "<Figure size 504x504 with 0 Axes>"
      ]
     },
     "metadata": {},
     "output_type": "display_data"
    },
    {
     "data": {
      "text/plain": [
       "<Figure size 504x504 with 0 Axes>"
      ]
     },
     "metadata": {},
     "output_type": "display_data"
    },
    {
     "data": {
      "text/plain": [
       "<Figure size 504x504 with 0 Axes>"
      ]
     },
     "metadata": {},
     "output_type": "display_data"
    },
    {
     "data": {
      "text/plain": [
       "<Figure size 504x504 with 0 Axes>"
      ]
     },
     "metadata": {},
     "output_type": "display_data"
    },
    {
     "data": {
      "text/plain": [
       "<Figure size 504x504 with 0 Axes>"
      ]
     },
     "metadata": {},
     "output_type": "display_data"
    },
    {
     "data": {
      "text/plain": [
       "<Figure size 504x504 with 0 Axes>"
      ]
     },
     "metadata": {},
     "output_type": "display_data"
    },
    {
     "data": {
      "text/plain": [
       "<Figure size 504x504 with 0 Axes>"
      ]
     },
     "metadata": {},
     "output_type": "display_data"
    },
    {
     "data": {
      "text/plain": [
       "<Figure size 504x504 with 0 Axes>"
      ]
     },
     "metadata": {},
     "output_type": "display_data"
    },
    {
     "data": {
      "text/plain": [
       "<Figure size 504x504 with 0 Axes>"
      ]
     },
     "metadata": {},
     "output_type": "display_data"
    },
    {
     "data": {
      "text/plain": [
       "<Figure size 504x504 with 0 Axes>"
      ]
     },
     "metadata": {},
     "output_type": "display_data"
    },
    {
     "data": {
      "text/plain": [
       "<Figure size 504x504 with 0 Axes>"
      ]
     },
     "metadata": {},
     "output_type": "display_data"
    },
    {
     "data": {
      "text/plain": [
       "<Figure size 504x504 with 0 Axes>"
      ]
     },
     "metadata": {},
     "output_type": "display_data"
    },
    {
     "data": {
      "text/plain": [
       "<Figure size 504x504 with 0 Axes>"
      ]
     },
     "metadata": {},
     "output_type": "display_data"
    },
    {
     "data": {
      "text/plain": [
       "<Figure size 504x504 with 0 Axes>"
      ]
     },
     "metadata": {},
     "output_type": "display_data"
    },
    {
     "data": {
      "text/plain": [
       "<Figure size 504x504 with 0 Axes>"
      ]
     },
     "metadata": {},
     "output_type": "display_data"
    },
    {
     "data": {
      "text/plain": [
       "<Figure size 504x504 with 0 Axes>"
      ]
     },
     "metadata": {},
     "output_type": "display_data"
    },
    {
     "data": {
      "text/plain": [
       "<Figure size 504x504 with 0 Axes>"
      ]
     },
     "metadata": {},
     "output_type": "display_data"
    },
    {
     "data": {
      "text/plain": [
       "<Figure size 504x504 with 0 Axes>"
      ]
     },
     "metadata": {},
     "output_type": "display_data"
    },
    {
     "data": {
      "text/plain": [
       "<Figure size 504x504 with 0 Axes>"
      ]
     },
     "metadata": {},
     "output_type": "display_data"
    },
    {
     "data": {
      "text/plain": [
       "<Figure size 504x504 with 0 Axes>"
      ]
     },
     "metadata": {},
     "output_type": "display_data"
    },
    {
     "data": {
      "text/plain": [
       "<Figure size 504x504 with 0 Axes>"
      ]
     },
     "metadata": {},
     "output_type": "display_data"
    },
    {
     "data": {
      "text/plain": [
       "<Figure size 504x504 with 0 Axes>"
      ]
     },
     "metadata": {},
     "output_type": "display_data"
    },
    {
     "data": {
      "text/plain": [
       "<Figure size 504x504 with 0 Axes>"
      ]
     },
     "metadata": {},
     "output_type": "display_data"
    },
    {
     "data": {
      "text/plain": [
       "<Figure size 504x504 with 0 Axes>"
      ]
     },
     "metadata": {},
     "output_type": "display_data"
    },
    {
     "data": {
      "text/plain": [
       "<Figure size 504x504 with 0 Axes>"
      ]
     },
     "metadata": {},
     "output_type": "display_data"
    },
    {
     "data": {
      "text/plain": [
       "<Figure size 504x504 with 0 Axes>"
      ]
     },
     "metadata": {},
     "output_type": "display_data"
    },
    {
     "data": {
      "text/plain": [
       "<Figure size 504x504 with 0 Axes>"
      ]
     },
     "metadata": {},
     "output_type": "display_data"
    },
    {
     "data": {
      "text/plain": [
       "<Figure size 504x504 with 0 Axes>"
      ]
     },
     "metadata": {},
     "output_type": "display_data"
    },
    {
     "data": {
      "text/plain": [
       "<Figure size 504x504 with 0 Axes>"
      ]
     },
     "metadata": {},
     "output_type": "display_data"
    },
    {
     "data": {
      "text/plain": [
       "<Figure size 504x504 with 0 Axes>"
      ]
     },
     "metadata": {},
     "output_type": "display_data"
    },
    {
     "data": {
      "text/plain": [
       "<Figure size 504x504 with 0 Axes>"
      ]
     },
     "metadata": {},
     "output_type": "display_data"
    },
    {
     "data": {
      "text/plain": [
       "<Figure size 504x504 with 0 Axes>"
      ]
     },
     "metadata": {},
     "output_type": "display_data"
    },
    {
     "data": {
      "text/plain": [
       "<Figure size 504x504 with 0 Axes>"
      ]
     },
     "metadata": {},
     "output_type": "display_data"
    },
    {
     "data": {
      "text/plain": [
       "<Figure size 504x504 with 0 Axes>"
      ]
     },
     "metadata": {},
     "output_type": "display_data"
    },
    {
     "data": {
      "text/plain": [
       "<Figure size 504x504 with 0 Axes>"
      ]
     },
     "metadata": {},
     "output_type": "display_data"
    },
    {
     "data": {
      "text/plain": [
       "<Figure size 504x504 with 0 Axes>"
      ]
     },
     "metadata": {},
     "output_type": "display_data"
    },
    {
     "data": {
      "text/plain": [
       "<Figure size 504x504 with 0 Axes>"
      ]
     },
     "metadata": {},
     "output_type": "display_data"
    },
    {
     "data": {
      "text/plain": [
       "<Figure size 504x504 with 0 Axes>"
      ]
     },
     "metadata": {},
     "output_type": "display_data"
    },
    {
     "data": {
      "text/plain": [
       "<Figure size 504x504 with 0 Axes>"
      ]
     },
     "metadata": {},
     "output_type": "display_data"
    },
    {
     "data": {
      "text/plain": [
       "<Figure size 504x504 with 0 Axes>"
      ]
     },
     "metadata": {},
     "output_type": "display_data"
    },
    {
     "data": {
      "text/plain": [
       "<Figure size 504x504 with 0 Axes>"
      ]
     },
     "metadata": {},
     "output_type": "display_data"
    },
    {
     "data": {
      "text/plain": [
       "<Figure size 504x504 with 0 Axes>"
      ]
     },
     "metadata": {},
     "output_type": "display_data"
    },
    {
     "data": {
      "text/plain": [
       "<Figure size 504x504 with 0 Axes>"
      ]
     },
     "metadata": {},
     "output_type": "display_data"
    },
    {
     "data": {
      "text/plain": [
       "<Figure size 504x504 with 0 Axes>"
      ]
     },
     "metadata": {},
     "output_type": "display_data"
    },
    {
     "data": {
      "text/plain": [
       "<Figure size 504x504 with 0 Axes>"
      ]
     },
     "metadata": {},
     "output_type": "display_data"
    },
    {
     "data": {
      "text/plain": [
       "<Figure size 504x504 with 0 Axes>"
      ]
     },
     "metadata": {},
     "output_type": "display_data"
    },
    {
     "data": {
      "text/plain": [
       "<Figure size 504x504 with 0 Axes>"
      ]
     },
     "metadata": {},
     "output_type": "display_data"
    },
    {
     "data": {
      "text/plain": [
       "<Figure size 504x504 with 0 Axes>"
      ]
     },
     "metadata": {},
     "output_type": "display_data"
    },
    {
     "data": {
      "text/plain": [
       "<Figure size 504x504 with 0 Axes>"
      ]
     },
     "metadata": {},
     "output_type": "display_data"
    },
    {
     "data": {
      "text/plain": [
       "<Figure size 504x504 with 0 Axes>"
      ]
     },
     "metadata": {},
     "output_type": "display_data"
    },
    {
     "data": {
      "text/plain": [
       "<Figure size 504x504 with 0 Axes>"
      ]
     },
     "metadata": {},
     "output_type": "display_data"
    },
    {
     "data": {
      "text/plain": [
       "<Figure size 504x504 with 0 Axes>"
      ]
     },
     "metadata": {},
     "output_type": "display_data"
    },
    {
     "data": {
      "image/png": "[encoded data removed]",
      "text/plain": [
       "<Figure size 504x504 with 1 Axes>"
      ]
     },
     "metadata": {
      "needs_background": "light"
     },
     "output_type": "display_data"
    }
   ],
   "source": [
    "import matplotlib.patches as mpatches\n",
    "\n",
    "red_patch = mpatches.Patch(color='red', label='D loss')\n",
    "green_patch = mpatches.Patch(color='green', label='G loss')\n",
    "\n",
    "\n",
    "\n",
    "for epoch in range(n_epochs):\n",
    "    for i, (imgs, labels) in enumerate(real_data):\n",
    "        batch_size = imgs.shape[0]\n",
    "        \n",
    "##################### Лейблы для данных: 1 - настоящие, 0 - сгенерированные ########\n",
    "        valid = Variable(torch.FloatTensor(batch_size, 1).fill_(1.0), requires_grad=False).to(device)\n",
    "        fake = Variable(torch.FloatTensor(batch_size, 1).fill_(0.0), requires_grad=False).to(device)\n",
    "\n",
    "        real_imgs = Variable(imgs.type(torch.FloatTensor)).to(device)\n",
    "\n",
    "\n",
    "######################  Тренировка генератора    ##########################\n",
    "\n",
    "        optimizer_G.zero_grad()\n",
    "    \n",
    "        #генерация шума\n",
    "        z = Variable(torch.FloatTensor(np.random.normal(0, 1, (batch_size, latent_dim)))).to(device)\n",
    "\n",
    "        gen_imgs = generator(z)\n",
    "        \n",
    "        print(0, gen_imgs.shape)\n",
    "        validity = discriminator(gen_imgs)\n",
    "        g_loss = adversarial_loss(validity, valid)\n",
    "        \n",
    "        g_loss.backward()\n",
    "        optimizer_G.step()\n",
    "\n",
    "######################  Тренировка дискриминатора    ##########################\n",
    "\n",
    "        optimizer_D.zero_grad()\n",
    "\n",
    "        real_pred = discriminator(real_imgs)\n",
    "        d_real_loss = adversarial_loss(real_pred, valid)\n",
    "\n",
    "        fake_pred = discriminator(gen_imgs.detach())\n",
    "        d_fake_loss = adversarial_loss(fake_pred, fake)\n",
    "\n",
    "        d_loss = (d_real_loss + d_fake_loss) / 2\n",
    "\n",
    "        d_loss.backward()\n",
    "        optimizer_D.step()\n",
    "        \n",
    "######## Отображение процесса обучения и вывод функций потерь ############\n",
    "        batches_done = epoch * len(real_data) + i\n",
    "    \n",
    "        if batches_done % sample_interval == 0:\n",
    "            plt.clf()\n",
    "            \n",
    "            display.clear_output(wait=False)\n",
    "            sample_image(gen_imgs)\n",
    "            print(\"[Epoch %d/%d] [Batch %d/%d] [D loss: %f] [G loss: %f]\"% (epoch, n_epochs, i, len(real_data), d_loss.item(), g_loss.item()) ) \n",
    "\n",
    "            \n",
    "            display.display(plt.gcf())\n",
    "\n",
    "#             d_loss_history.append(d_loss)\n",
    "#             g_loss_history.append(g_loss)\n",
    "\n",
    "#             plt.plot(np.log(np.array(d_loss_history)), label='D loss', color = 'red')\n",
    "#             plt.plot(np.log(np.array(g_loss_history)), label='G loss', color = 'green')\n",
    "#             plt.legend(handles=[red_patch, green_patch])\n",
    "#             plt.show()\n",
    "\n",
    "            "
   ]
  },
  {
   "cell_type": "code",
   "execution_count": 273,
   "metadata": {},
   "outputs": [],
   "source": [
    "torch.save(generator.state_dict(), \"base_model.pth\")"
   ]
  },
  {
   "cell_type": "markdown",
   "metadata": {
    "heading_collapsed": true
   },
   "source": [
    "### Tests"
   ]
  },
  {
   "cell_type": "code",
   "execution_count": 223,
   "metadata": {
    "hidden": true
   },
   "outputs": [
    {
     "name": "stdout",
     "output_type": "stream",
     "text": [
      "input_shape:\n",
      "torch.Size([5, 1, 5, 5])\n",
      "\n",
      " input:\n",
      "tensor([[[[0.1595, 0.9644, 0.6110, 0.9598, 0.5408],\n",
      "          [0.9272, 0.3370, 0.7536, 0.4816, 0.6344],\n",
      "          [0.4922, 0.2733, 0.8634, 0.4638, 0.4355],\n",
      "          [0.7709, 0.9973, 0.1354, 0.5087, 0.9148],\n",
      "          [0.5587, 0.4460, 0.2348, 0.3247, 0.2660]]],\n",
      "\n",
      "\n",
      "        [[[0.1814, 0.3062, 0.0611, 0.8790, 0.7326],\n",
      "          [0.3878, 0.8893, 0.8615, 0.7239, 0.7074],\n",
      "          [0.5556, 0.3245, 0.7087, 0.8025, 0.5379],\n",
      "          [0.7628, 0.8869, 0.1692, 0.4250, 0.9963],\n",
      "          [0.4144, 0.8281, 0.7311, 0.3451, 0.3771]]],\n",
      "\n",
      "\n",
      "        [[[0.5879, 0.7622, 0.8136, 0.4197, 0.3214],\n",
      "          [0.8250, 0.5668, 0.7810, 0.4036, 0.7249],\n",
      "          [0.4876, 0.0486, 0.7567, 0.4985, 0.9326],\n",
      "          [0.8457, 0.7066, 0.2985, 0.6344, 0.9348],\n",
      "          [0.5226, 0.7504, 0.9613, 0.8520, 0.3471]]],\n",
      "\n",
      "\n",
      "        [[[0.7237, 0.8633, 0.4362, 0.4152, 0.3336],\n",
      "          [0.9278, 0.0710, 0.0645, 0.8061, 0.5643],\n",
      "          [0.7707, 0.0075, 0.5398, 0.5376, 0.0073],\n",
      "          [0.8598, 0.8702, 0.4580, 0.3721, 0.5707],\n",
      "          [0.9948, 0.1928, 0.5586, 0.8248, 0.8891]]],\n",
      "\n",
      "\n",
      "        [[[0.6600, 0.3339, 0.7227, 0.6256, 0.8756],\n",
      "          [0.5246, 0.0590, 0.6793, 0.1482, 0.8270],\n",
      "          [0.6376, 0.8861, 0.7740, 0.6594, 0.7292],\n",
      "          [0.8032, 0.2979, 0.1536, 0.7430, 0.2973],\n",
      "          [0.5731, 0.8705, 0.9460, 0.5751, 0.4441]]]])\n",
      "\n",
      " after_conv\n",
      "torch.Size([5, 2, 4, 3])\n",
      "tensor([[[[0.6011, 0.2884, 0.3728],\n",
      "          [0.3349, 0.3319, 0.3599],\n",
      "          [0.4377, 0.5282, 0.1829],\n",
      "          [0.1344, 0.1929, 0.5790]],\n",
      "\n",
      "         [[0.4416, 0.1532, 0.3098],\n",
      "          [0.2313, 0.4641, 0.3035],\n",
      "          [0.4681, 0.3390, 0.3421],\n",
      "          [0.2017, 0.1492, 0.2154]]],\n",
      "\n",
      "\n",
      "        [[[0.2958, 0.5811, 0.6231],\n",
      "          [0.5475, 0.2623, 0.2944],\n",
      "          [0.3780, 0.5951, 0.2866],\n",
      "          [0.1239, 0.2096, 0.6702]],\n",
      "\n",
      "         [[0.8510, 0.6964, 0.5758],\n",
      "          [0.2420, 0.2502, 0.3222],\n",
      "          [0.4445, 0.2409, 0.2890],\n",
      "          [0.4649, 0.4484, 0.3248]]],\n",
      "\n",
      "\n",
      "        [[[0.4815, 0.2088, 0.2534],\n",
      "          [0.3927, 0.2076, 0.3958],\n",
      "          [0.4584, 0.5694, 0.3914],\n",
      "          [0.1771, 0.3398, 0.5826]],\n",
      "\n",
      "         [[0.3723, 0.3390, 0.4189],\n",
      "          [0.0965, 0.3382, 0.4155],\n",
      "          [0.4964, 0.4656, 0.3205],\n",
      "          [0.4969, 0.6289, 0.4700]]],\n",
      "\n",
      "\n",
      "        [[[0.3274, 0.2053, 0.2352],\n",
      "          [0.1595, 0.5344, 0.4928],\n",
      "          [0.2864, 0.5866, 0.1940],\n",
      "          [0.3183, 0.1571, 0.3950]],\n",
      "\n",
      "         [[0.0515, 0.1526, 0.5135],\n",
      "          [0.3291, 0.4695, 0.3234],\n",
      "          [0.5761, 0.5308, 0.4507],\n",
      "          [0.1895, 0.3612, 0.6344]]],\n",
      "\n",
      "\n",
      "        [[[0.4321, 0.3457, 0.4805],\n",
      "          [0.4057, 0.4326, 0.4378],\n",
      "          [0.4312, 0.2921, 0.2428],\n",
      "          [0.1422, 0.5180, 0.4607]],\n",
      "\n",
      "         [[0.2023, 0.2473, 0.1796],\n",
      "          [0.6582, 0.7775, 0.4829],\n",
      "          [0.0719, 0.0654, 0.1762],\n",
      "          [0.6827, 0.7012, 0.5773]]]], grad_fn=<MkldnnConvolutionBackward>)\n",
      "\n",
      " after_conv2\n",
      "torch.Size([5, 4, 1, 2])\n",
      "tensor([[[[ 0.0037, -0.0324]],\n",
      "\n",
      "         [[ 0.0779,  0.0857]],\n",
      "\n",
      "         [[-0.0182,  0.0115]],\n",
      "\n",
      "         [[ 0.2527,  0.0624]]],\n",
      "\n",
      "\n",
      "        [[[ 0.0066, -0.0428]],\n",
      "\n",
      "         [[ 0.1193,  0.0202]],\n",
      "\n",
      "         [[ 0.0406,  0.1055]],\n",
      "\n",
      "         [[ 0.2989,  0.2314]]],\n",
      "\n",
      "\n",
      "        [[[-0.1699, -0.1503]],\n",
      "\n",
      "         [[ 0.2335,  0.2685]],\n",
      "\n",
      "         [[ 0.1178,  0.1621]],\n",
      "\n",
      "         [[ 0.0819,  0.0097]]],\n",
      "\n",
      "\n",
      "        [[[-0.1071, -0.0684]],\n",
      "\n",
      "         [[ 0.2896,  0.2555]],\n",
      "\n",
      "         [[ 0.0300,  0.0673]],\n",
      "\n",
      "         [[-0.0193, -0.0621]]],\n",
      "\n",
      "\n",
      "        [[[-0.1074, -0.1894]],\n",
      "\n",
      "         [[ 0.0912,  0.1012]],\n",
      "\n",
      "         [[ 0.1115,  0.1480]],\n",
      "\n",
      "         [[ 0.1268, -0.0198]]]], grad_fn=<MkldnnConvolutionBackward>)\n",
      "\n",
      "conv weight torch.Size([2, 1, 2, 3])\n",
      "Parameter containing:\n",
      "tensor([[[[-0.3499, -0.0070,  0.3211],\n",
      "          [ 0.1423, -0.1021,  0.0698]]],\n",
      "\n",
      "\n",
      "        [[[-0.3124, -0.2145, -0.2543],\n",
      "          [ 0.1727,  0.3612,  0.2671]]]], requires_grad=True)\n",
      "\n",
      "conv2 weight torch.Size([4, 2, 4, 2])\n",
      "Parameter containing:\n",
      "tensor([[[[-0.1463,  0.0268],\n",
      "          [ 0.2447,  0.2293],\n",
      "          [ 0.1420,  0.0664],\n",
      "          [-0.1348,  0.0131]],\n",
      "\n",
      "         [[ 0.1785,  0.0177],\n",
      "          [-0.0460,  0.2204],\n",
      "          [-0.1520,  0.0978],\n",
      "          [-0.2062, -0.1940]]],\n",
      "\n",
      "\n",
      "        [[[-0.1099, -0.1783],\n",
      "          [-0.2124,  0.1766],\n",
      "          [ 0.1013,  0.2386],\n",
      "          [-0.0440, -0.0145]],\n",
      "\n",
      "         [[-0.0356, -0.0049],\n",
      "          [ 0.1408, -0.2287],\n",
      "          [ 0.1684,  0.0978],\n",
      "          [ 0.1147,  0.1920]]],\n",
      "\n",
      "\n",
      "        [[[-0.0034, -0.1612],\n",
      "          [-0.1892,  0.0270],\n",
      "          [ 0.0078, -0.0731],\n",
      "          [ 0.1341,  0.0397]],\n",
      "\n",
      "         [[ 0.1176, -0.0230],\n",
      "          [-0.0343, -0.1198],\n",
      "          [-0.0793, -0.0295],\n",
      "          [ 0.1033,  0.2013]]],\n",
      "\n",
      "\n",
      "        [[[-0.0592,  0.1964],\n",
      "          [ 0.1715,  0.0953],\n",
      "          [ 0.1737,  0.2201],\n",
      "          [-0.2268, -0.0055]],\n",
      "\n",
      "         [[ 0.2418, -0.1590],\n",
      "          [-0.2413,  0.1560],\n",
      "          [-0.2039, -0.2222],\n",
      "          [-0.1228, -0.1228]]]], requires_grad=True)\n"
     ]
    }
   ],
   "source": [
    "linear = nn.Linear(in_features=3, out_features=7)\n",
    "conv = nn.Conv2d(in_channels=1, out_channels=2, kernel_size=(2,3), padding=0)\n",
    "conv2 = nn.Conv2d(in_channels=2, out_channels=4, kernel_size=(4,2), padding=0)\n",
    "\n",
    "input_ = torch.rand(size=(5,1,5,5))\n",
    "\n",
    "print('input_shape:')\n",
    "print(input_.shape)\n",
    "print('\\n', 'input:')\n",
    "print(input_)\n",
    "\n",
    "print('\\n', 'after_conv')\n",
    "print(conv(input_).shape)\n",
    "print(conv(input_))\n",
    "\n",
    "print('\\n', 'after_conv2')\n",
    "print(conv2(conv(input_)).shape)\n",
    "print(conv2(conv(input_)))\n",
    "\n",
    "\n",
    "print('\\nconv weight', conv.weight.shape)\n",
    "print(conv.weight)\n",
    "\n",
    "print('\\nconv2 weight', conv2.weight.shape)\n",
    "print(conv2.weight)"
   ]
  }
 ],
 "metadata": {
  "hide_input": false,
  "kernelspec": {
   "display_name": "Python 3",
   "language": "python",
   "name": "python3"
  },
  "language_info": {
   "codemirror_mode": {
    "name": "ipython",
    "version": 3
   },
   "file_extension": ".py",
   "mimetype": "text/x-python",
   "name": "python",
   "nbconvert_exporter": "python",
   "pygments_lexer": "ipython3",
   "version": "3.7.3"
  },
  "toc": {
   "base_numbering": 1,
   "nav_menu": {},
   "number_sections": false,
   "sideBar": true,
   "skip_h1_title": false,
   "title_cell": "Навигация",
   "title_sidebar": "Навигация",
   "toc_cell": false,
   "toc_position": {
    "height": "462.222px",
    "left": "1137.78px",
    "top": "119.234px",
    "width": "234.444px"
   },
   "toc_section_display": true,
   "toc_window_display": true
  }
 },
 "nbformat": 4,
 "nbformat_minor": 4
}
